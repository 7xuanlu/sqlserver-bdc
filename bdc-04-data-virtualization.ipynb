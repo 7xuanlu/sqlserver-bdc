{
    "metadata": {
        "kernelspec": {
            "name": "SQL",
            "display_name": "SQL",
            "language": "sql"
        },
        "language_info": {
            "name": "sql",
            "version": ""
        }
    },
    "nbformat_minor": 2,
    "nbformat": 4,
    "cells": [
        {
            "cell_type": "markdown",
            "source": [
                "<img src=\"https://github.com/Microsoft/sqlworkshops/blob/master/graphics/solutions-microsoft-logo-small.png?raw=true\" alt=\"Microsoft\">\r\n",
                "<br>\r\n",
                "\r\n",
                "# **SQL Server 2019 big data cluster Tutorial**\r\n",
                "## **04 - Data Virtualization**\r\n",
                "\r\n",
                "In this tutorial you will learn how to create and query Virtualized Data in a SQL Server big data cluster.  \r\n",
                "- You'll start with creating a text file format, since that's the type of data you are reading in. \r\n",
                "- Next, you'll create a data source for the SQL Storage Pool, since that allows you to access the HDFS system in BDC. \r\n",
                "- Finally, you'll create an External Table, which uses the previous steps to access the data.\r\n",
                ""
            ],
            "metadata": {
                "azdata_cell_guid": "86b5ce61-2e4a-4abd-925d-f62090c097e8"
            }
        },
        {
            "cell_type": "code",
            "source": [
                "USE WideWorldImporters;\r\n",
                "SELECT * FROM sys.external_tables"
            ],
            "metadata": {
                "azdata_cell_guid": "913ff4aa-1c55-449e-a488-25fb281ade7b",
                "tags": []
            },
            "outputs": [],
            "execution_count": null
        },
        {
            "cell_type": "code",
            "source": [
                "/* Clean up only - run this cell only if you are repeating the tutorial! */\r\n",
                "USE WideWorldImporters;\r\n",
                "GO\r\n",
                "\r\n",
                "IF EXISTS(SELECT * FROM sys.external_tables WHERE name = 'partner_customers_hdfs')\r\n",
                "BEGIN\r\n",
                "    DROP EXTERNAL TABLE partner_customers_hdfs\r\n",
                "END\r\n",
                "\r\n",
                "IF EXISTS(SELECT * FROM sys.external_data_sources WHERE name = 'SqlStoragePool')\r\n",
                "BEGIN\r\n",
                "    DROP EXTERNAL DATA SOURCE SqlStoragePool\r\n",
                "END\r\n",
                "\r\n",
                "IF EXISTS(SELECT * FROM sys.external_file_formats WHERE name = 'csv_file')\r\n",
                "BEGIN\r\n",
                "    DROP EXTERNAL FILE FORMAT csv_file\r\n",
                "END"
            ],
            "metadata": {
                "azdata_cell_guid": "7f6483ec-7452-4b95-9f0d-d56e9dbbce42"
            },
            "outputs": [],
            "execution_count": null
        },
        {
            "cell_type": "code",
            "source": [
                "/* Create External File Format */\r\n",
                "USE WideWorldImporters;\r\n",
                "GO\r\n",
                "\r\n",
                "CREATE EXTERNAL FILE FORMAT csv_file\r\n",
                "WITH (\r\n",
                "    FORMAT_TYPE = DELIMITEDTEXT,\r\n",
                "    FORMAT_OPTIONS(\r\n",
                "        FIELD_TERMINATOR = ',',\r\n",
                "        STRING_DELIMITER = '0x22',\r\n",
                "        FIRST_ROW = 2,\r\n",
                "        USE_TYPE_DEFAULT = TRUE)\r\n",
                ");\r\n",
                "GO"
            ],
            "metadata": {
                "azdata_cell_guid": "0c69c481-a1e5-4e35-9525-524bf3c2a1dc"
            },
            "outputs": [],
            "execution_count": null
        },
        {
            "cell_type": "code",
            "source": [
                "/* Create External Data Source to the Storage Pool */\r\n",
                "CREATE EXTERNAL DATA SOURCE SqlStoragePool\r\n",
                "WITH (LOCATION = 'sqlhdfs://controller-svc/default');"
            ],
            "metadata": {
                "azdata_cell_guid": "d41ad7d8-2701-4637-88cd-30045d76beba"
            },
            "outputs": [],
            "execution_count": null
        },
        {
            "cell_type": "code",
            "source": [
                "/* Create an External Table that can read from the Storage Pool File Location */\r\n",
                "CREATE EXTERNAL TABLE [partner_customers_hdfs]\r\n",
                "    (\"CustomerSource\" VARCHAR(250) \r\n",
                "    , \"CustomerName\" VARCHAR(250) \r\n",
                "    , \"EmailAddress\" VARCHAR(250))\r\n",
                "    WITH\r\n",
                "    (\r\n",
                "        DATA_SOURCE = SqlStoragePool,\r\n",
                "        LOCATION = '/partner_customers',\r\n",
                "        FILE_FORMAT = csv_file\r\n",
                "    );\r\n",
                "GO"
            ],
            "metadata": {
                "azdata_cell_guid": "e05f68a6-187b-492b-a340-366ebdc4a2ca"
            },
            "outputs": [],
            "execution_count": null
        },
        {
            "cell_type": "code",
            "source": [
                "/* Read Data from HDFS using only T-SQL */\r\n",
                "SELECT TOP 10 CustomerSource\r\n",
                ", CustomerName\r\n",
                ", EMailAddress\r\n",
                "    FROM [partner_customers_hdfs] hdfs\r\n",
                "WHERE EmailAddress LIKE '%wingtip%'\r\n",
                "ORDER BY CustomerSource, CustomerName;\r\n",
                "GO\r\n",
                ""
            ],
            "metadata": {
                "azdata_cell_guid": "af47bbc9-1d88-448a-a4c8-87fecaf68a3a"
            },
            "outputs": [],
            "execution_count": null
        },
        {
            "cell_type": "code",
            "source": [
                "/* Now Join Those to show customers we currently have in a SQL Server Database \r\n",
                "and the Category they qre in the External Table */\r\n",
                "USE WideWorldImporters;\r\n",
                "GO\r\n",
                "\r\n",
                "SELECT TOP 10 a.FullName\r\n",
                "  , b.CustomerSource\r\n",
                "  FROM Application.People a\r\n",
                "  INNER JOIN partner_customers_hdfs b  ON a.FullName = b.CustomerName\r\n",
                "  ORDER BY FullName ASC;\r\n",
                "  GO"
            ],
            "metadata": {
                "azdata_cell_guid": "f94a530b-061e-4c42-8f37-e590c87c614b"
            },
            "outputs": [],
            "execution_count": null
        },
        {
            "cell_type": "markdown",
            "source": [
                "## **Next Steps: Continue on to Working with the SQL Server Data Pool**\r\n",
                "\r\n",
                "Now you're ready to open the next Jupyter Notebook - [bdc-05-data-mart.ipynb](bdc-05-data-mart.ipynb) - to learn how to create and work with a Data Mart."
            ],
            "metadata": {
                "azdata_cell_guid": "72cff5fb-5191-4941-bb15-a3032ed44790"
            }
        }
    ]
}