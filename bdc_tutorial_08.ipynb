{
    "metadata": {
        "kernelspec": {
            "name": "powershell",
            "display_name": "PowerShell"
        },
        "language_info": {
            "name": "powershell",
            "codemirror_mode": "shell",
            "mimetype": "text/x-sh",
            "file_extension": ".ps1"
        }
    },
    "nbformat_minor": 2,
    "nbformat": 4,
    "cells": [
        {
            "cell_type": "markdown",
            "source": [
                "<img src=\"https://github.com/Microsoft/sqlworkshops/blob/master/graphics/solutions-microsoft-logo-small.png?raw=true\" alt=\"Microsoft\">\r\n",
                "<br>\r\n",
                "\r\n",
                "# **SQL Server 2019 big data cluster Tutorial**\r\n",
                "## **08 - Export Spark ML model and deploy it to Big Data Cluster App pool**"
            ],
            "metadata": {
                "azdata_cell_guid": "e915f064-1e21-4f16-aeba-a4d682ce1e23"
            }
        },
        {
            "cell_type": "markdown",
            "source": [
                "Log in to the SQL Server big data cluster using the command below using the IP address of the controller-svc-external in your cluster. If you are not familiar with mssqltctl you can refer to the documentation and then return to this sample."
            ],
            "metadata": {
                "azdata_cell_guid": "3e0779ac-1472-4fce-82eb-22693001c505"
            }
        },
        {
            "cell_type": "code",
            "source": [
                "azdata login"
            ],
            "metadata": {
                "azdata_cell_guid": "cd1d3b12-7089-4d49-9b5b-a784d42e8364"
            },
            "outputs": [
                {
                    "output_type": "stream",
                    "name": "stdout",
                    "text": "ERROR: azdata Please specify arguments and/or environment variables in non-interactive mode. For a better understanding of the arguments, please run 'When not specifying the --endpoint and using the kube config, please specify the namespace as an argument via --namespace/-n. login --help'.\n. { azdata login }\n"
                }
            ],
            "execution_count": 5
        },
        {
            "cell_type": "code",
            "source": [
                "cd temp\r\n",
                "kubectl cp mssql-cluster/storage-0-1:battery_life_pipeline.zip battery_life_pipeline.zip"
            ],
            "metadata": {
                "azdata_cell_guid": "0bf5c4c6-6ddd-442e-b388-acf85d6c31f0"
            },
            "outputs": [
                {
                    "output_type": "stream",
                    "name": "stdout",
                    "text": "Defaulting container name to hadoop.\n"
                }
            ],
            "execution_count": 10
        },
        {
            "cell_type": "markdown",
            "source": [
                "The init command provides a scaffold with the relevant artifacts that is required for deploying an app. The example below creates hello you can do this by running the following command."
            ],
            "metadata": {
                "azdata_cell_guid": "3d6dc4fd-a42e-4d70-abe8-82bf3db0bfd4"
            }
        },
        {
            "cell_type": "code",
            "source": [
                "azdata app init -v v1 -n battery_life -t mleap"
            ],
            "metadata": {
                "azdata_cell_guid": "7d28d7d4-30f8-4199-95cb-8775d396fc52"
            },
            "outputs": [],
            "execution_count": null
        },
        {
            "cell_type": "markdown",
            "source": [
                "The application you will be deploying as part of this sample is a Random Forest Model that was built in Spark and has been serialized as an MLeap bundle.\r\n",
                "\r\n",
                "Deploy the app using the create command and pass the location of the spec file. In the example below, the spec file is expected to be in the mleap folder:"
            ],
            "metadata": {
                "azdata_cell_guid": "d8c3ab1a-0331-452a-b596-80a62324170d"
            }
        },
        {
            "cell_type": "code",
            "source": [
                "azdata app create --spec "
            ],
            "metadata": {
                "azdata_cell_guid": "9ad305d1-734e-4bf8-901e-3c77fb141b46"
            },
            "outputs": [
                {
                    "output_type": "stream",
                    "name": "stdout",
                    "text": "Application `battery-life/v1` successfully created.\n. { azdata app create --spec ./temp/battery-life }\n"
                }
            ],
            "execution_count": 20
        },
        {
            "cell_type": "markdown",
            "source": [
                "Check the deployment by running the following command:"
            ],
            "metadata": {
                "azdata_cell_guid": "62242a79-5f7c-4f6f-af8c-32e1966ad2a6"
            }
        },
        {
            "cell_type": "code",
            "source": [
                "azdata app list"
            ],
            "metadata": {
                "azdata_cell_guid": "68b18f42-1e7b-47db-90be-4c6158faf8b6"
            },
            "outputs": [
                {
                    "output_type": "stream",
                    "name": "stdout",
                    "text": "App                                                     Name          State    Version\n------------------------------------------------------  ------------  -------  ---------\nhttps://20.43.145.147:30080/api/v1/app/battery-life/v1  battery-life  Ready    v1\n. { azdata app list }\n"
                }
            ],
            "execution_count": 7
        },
        {
            "cell_type": "markdown",
            "source": [
                "The deployed app is a RESTful webservice that is Swagger compliant. You can get the endpoint for the web service by running:"
            ],
            "metadata": {
                "azdata_cell_guid": "b0a2a22b-890b-4f0d-9fac-baf7759696ff"
            }
        },
        {
            "cell_type": "code",
            "source": [
                "azdata app describe --name battery-life --version v1"
            ],
            "metadata": {
                "azdata_cell_guid": "473176e4-db15-48a4-831b-d3afe12eb071"
            },
            "outputs": [
                {
                    "output_type": "stream",
                    "name": "stdout",
                    "text": "{\n  \"input_param_defs\": null,\n  \"internal_name\": \"app1\",\n  \"links\": {\n    \"app\": \"https://20.43.145.147:30080/api/v1/app/battery-life/v1\",\n    \"swagger\": \"https://20.43.145.147:30080/api/v1/app/battery-life/v1/swagger.json\"\n  },\n  \"name\": \"battery-life\",\n  \"output_param_defs\": null,\n  \"state\": \"Ready\",\n  \"version\": \"v1\"\n}\n"
                }
            ],
            "execution_count": 29
        },
        {
            "cell_type": "markdown",
            "source": [
                "Go to https://\\<ip-address>:\\<port>/api/v1/app/battery-life/v1/swagger.json, and you'll get json and paste it to [swagger.io](https://editor.swagger.io/)."
            ],
            "metadata": {
                "azdata_cell_guid": "45f03953-864b-4487-8dc6-b9e85c749f9b"
            }
        },
        {
            "cell_type": "markdown",
            "source": [
                "o test the app, run the command below. The input parameter is a MLeapFrame, a json file that describes the parameters and the values provided to the model for predicting income. Note that the input parameter has a special character '@' to indicate that a json file is being passed. This command needs to be run within the battery-life folder."
            ],
            "metadata": {
                "azdata_cell_guid": "89a44578-7532-4f4d-a5bc-5adb02d509c3"
            }
        },
        {
            "cell_type": "code",
            "source": [
                "cd battery-life\r\n",
                "azdata app run --name battery-life --version v1 --input schema=@sample-data.json"
            ],
            "metadata": {
                "azdata_cell_guid": "c1ae836f-f264-4a5e-b575-11d6b3b023e2"
            },
            "outputs": [
                {
                    "output_type": "stream",
                    "name": "stdout",
                    "text": "{\n  \"rows\": [\n    [\n      \"MidWest\",\n      10.72683,\n      3.57561,\n      4.933752,\n      1.233438,\n      \"Y2015\",\n      0.9643111,\n      false,\n      0.7287034,\n      -7.620707,\n      5.743655,\n      -2.093845,\n      0.929363,\n      -5.724913,\n      10.83794,\n      -0.7949478,\n      12.79747,\n      0.4896609,\n      2.623741,\n      -5.30771,\n      8.006068,\n      -1.473688,\n      3.911732,\n      -5.721951,\n      7.864946,\n      -1.404707,\n      4.005886,\n      4.23024,\n      1.578591,\n      2.367717,\n      2.853473,\n      -4.492987,\n      4.241188,\n      1.476357,\n      2.495902,\n      2.934532,\n      8.344662,\n      2.726575,\n      6.560115,\n      -1.33436,\n      5.602337,\n      -4.497357,\n      2.636496,\n      -7.309591,\n      4.665259,\n      5.381108,\n      13.13042,\n      -7.556585,\n      5.231132,\n      -0.2179702,\n      14.796,\n      1.520054,\n      13.65594,\n      3.998937,\n      17.63611,\n      4.772035,\n      11.35471,\n      2.892428,\n      4.604537,\n      5.673653,\n      10.4029,\n      -3.467322,\n      8.90184,\n      4.245604,\n      12.54377,\n      1.278428,\n      12.4068,\n      3.526727,\n      6.707998,\n      1835,\n      2.0,\n      1.0,\n      {\n        \"dimensions\": [\n          70\n        ],\n        \"values\": [\n          10.72683,\n          3.57561,\n          4.933752,\n          1.233438,\n          0.9643111,\n          0.0,\n          0.7287034,\n          -7.620707,\n          5.743655,\n          -2.093845,\n          0.929363,\n          -5.724913,\n          10.83794,\n          -0.7949478,\n          12.79747,\n          0.4896609,\n          2.623741,\n          -5.30771,\n          8.006068,\n          -1.473688,\n          3.911732,\n          -5.721951,\n          7.864946,\n          -1.404707,\n          4.005886,\n          4.23024,\n          1.578591,\n          2.367717,\n          2.853473,\n          -4.492987,\n          4.241188,\n          1.476357,\n          2.495902,\n          2.934532,\n          8.344662,\n          2.726575,\n          6.560115,\n          -1.33436,\n          5.602337,\n          -4.497357,\n          2.636496,\n          -7.309591,\n          4.665259,\n          5.381108,\n          13.13042,\n          -7.556585,\n          5.231132,\n          -0.2179702,\n          14.796,\n          1.520054,\n          13.65594,\n          3.998937,\n          17.63611,\n          4.772035,\n          11.35471,\n          2.892428,\n          4.604537,\n          5.673653,\n          10.4029,\n          -3.467322,\n          8.90184,\n          4.245604,\n          12.54377,\n          1.278428,\n          12.4068,\n          3.526727,\n          6.707998,\n          1835.0,\n          2.0,\n          1.0\n        ]\n      },\n      1806.5896011082666\n    ]\n  ],\n  \"schema\": {\n    \"fields\": [\n      {\n        \"name\": \"Region\",\n        \"type\": \"string\"\n      },\n      {\n        \"name\": \"Trip_Length_Mean\",\n        \"type\": \"double\"\n      },\n      {\n        \"name\": \"Trip_Length_Sigma\",\n        \"type\": \"double\"\n      },\n      {\n        \"name\": \"Trips_Per_Day_Mean\",\n        \"type\": \"double\"\n      },\n      {\n        \"name\": \"Trips_Per_Day_Sigma\",\n        \"type\": \"double\"\n      },\n      {\n        \"name\": \"Manufacture_Year\",\n        \"type\": \"string\"\n      },\n      {\n        \"name\": \"Alternator_Efficiency\",\n        \"type\": \"double\"\n      },\n      {\n        \"name\": \"Car_Has_EcoStart\",\n        \"type\": \"boolean\"\n      },\n      {\n        \"name\": \"Twelve_hourly_temperature_history_for_last_31_days_before_death_last_recording_first\",\n        \"type\": \"double\"\n      },\n      {\n        \"name\": \"Sensor_Reading_1\",\n        \"type\": \"double\"\n      },\n      {\n        \"name\": \"Sensor_Reading_2\",\n        \"type\": \"double\"\n      },\n      {\n        \"name\": \"Sensor_Reading_3\",\n        \"type\": \"double\"\n      },\n      {\n        \"name\": \"Sensor_Reading_4\",\n        \"type\": \"double\"\n      },\n      {\n        \"name\": \"Sensor_Reading_5\",\n        \"type\": \"double\"\n      },\n      {\n        \"name\": \"Sensor_Reading_6\",\n        \"type\": \"double\"\n      },\n      {\n        \"name\": \"Sensor_Reading_7\",\n        \"type\": \"double\"\n      },\n      {\n        \"name\": \"Sensor_Reading_8\",\n        \"type\": \"double\"\n      },\n      {\n        \"name\": \"Sensor_Reading_9\",\n        \"type\": \"double\"\n      },\n      {\n        \"name\": \"Sensor_Reading_10\",\n        \"type\": \"double\"\n      },\n      {\n        \"name\": \"Sensor_Reading_11\",\n        \"type\": \"double\"\n      },\n      {\n        \"name\": \"Sensor_Reading_12\",\n        \"type\": \"double\"\n      },\n      {\n        \"name\": \"Sensor_Reading_13\",\n        \"type\": \"double\"\n      },\n      {\n        \"name\": \"Sensor_Reading_14\",\n        \"type\": \"double\"\n      },\n      {\n        \"name\": \"Sensor_Reading_15\",\n        \"type\": \"double\"\n      },\n      {\n        \"name\": \"Sensor_Reading_16\",\n        \"type\": \"double\"\n      },\n      {\n        \"name\": \"Sensor_Reading_17\",\n        \"type\": \"double\"\n      },\n      {\n        \"name\": \"Sensor_Reading_18\",\n        \"type\": \"double\"\n      },\n      {\n        \"name\": \"Sensor_Reading_19\",\n        \"type\": \"double\"\n      },\n      {\n        \"name\": \"Sensor_Reading_20\",\n        \"type\": \"double\"\n      },\n      {\n        \"name\": \"Sensor_Reading_21\",\n        \"type\": \"double\"\n      },\n      {\n        \"name\": \"Sensor_Reading_22\",\n        \"type\": \"double\"\n      },\n      {\n        \"name\": \"Sensor_Reading_23\",\n        \"type\": \"double\"\n      },\n      {\n        \"name\": \"Sensor_Reading_24\",\n        \"type\": \"double\"\n      },\n      {\n        \"name\": \"Sensor_Reading_25\",\n        \"type\": \"double\"\n      },\n      {\n        \"name\": \"Sensor_Reading_26\",\n        \"type\": \"double\"\n      },\n      {\n        \"name\": \"Sensor_Reading_27\",\n        \"type\": \"double\"\n      },\n      {\n        \"name\": \"Sensor_Reading_28\",\n        \"type\": \"double\"\n      },\n      {\n        \"name\": \"Sensor_Reading_29\",\n        \"type\": \"double\"\n      },\n      {\n        \"name\": \"Sensor_Reading_30\",\n        \"type\": \"double\"\n      },\n      {\n        \"name\": \"Sensor_Reading_31\",\n        \"type\": \"double\"\n      },\n      {\n        \"name\": \"Sensor_Reading_32\",\n        \"type\": \"double\"\n      },\n      {\n        \"name\": \"Sensor_Reading_33\",\n        \"type\": \"double\"\n      },\n      {\n        \"name\": \"Sensor_Reading_34\",\n        \"type\": \"double\"\n      },\n      {\n        \"name\": \"Sensor_Reading_35\",\n        \"type\": \"double\"\n      },\n      {\n        \"name\": \"Sensor_Reading_36\",\n        \"type\": \"double\"\n      },\n      {\n        \"name\": \"Sensor_Reading_37\",\n        \"type\": \"double\"\n      },\n      {\n        \"name\": \"Sensor_Reading_38\",\n        \"type\": \"double\"\n      },\n      {\n        \"name\": \"Sensor_Reading_39\",\n        \"type\": \"double\"\n      },\n      {\n        \"name\": \"Sensor_Reading_40\",\n        \"type\": \"double\"\n      },\n      {\n        \"name\": \"Sensor_Reading_41\",\n        \"type\": \"double\"\n      },\n      {\n        \"name\": \"Sensor_Reading_42\",\n        \"type\": \"double\"\n      },\n      {\n        \"name\": \"Sensor_Reading_43\",\n        \"type\": \"double\"\n      },\n      {\n        \"name\": \"Sensor_Reading_44\",\n        \"type\": \"double\"\n      },\n      {\n        \"name\": \"Sensor_Reading_45\",\n        \"type\": \"double\"\n      },\n      {\n        \"name\": \"Sensor_Reading_46\",\n        \"type\": \"double\"\n      },\n      {\n        \"name\": \"Sensor_Reading_47\",\n        \"type\": \"double\"\n      },\n      {\n        \"name\": \"Sensor_Reading_48\",\n        \"type\": \"double\"\n      },\n      {\n        \"name\": \"Sensor_Reading_49\",\n        \"type\": \"double\"\n      },\n      {\n        \"name\": \"Sensor_Reading_50\",\n        \"type\": \"double\"\n      },\n      {\n        \"name\": \"Sensor_Reading_51\",\n        \"type\": \"double\"\n      },\n      {\n        \"name\": \"Sensor_Reading_52\",\n        \"type\": \"double\"\n      },\n      {\n        \"name\": \"Sensor_Reading_53\",\n        \"type\": \"double\"\n      },\n      {\n        \"name\": \"Sensor_Reading_54\",\n        \"type\": \"double\"\n      },\n      {\n        \"name\": \"Sensor_Reading_55\",\n        \"type\": \"double\"\n      },\n      {\n        \"name\": \"Sensor_Reading_56\",\n        \"type\": \"double\"\n      },\n      {\n        \"name\": \"Sensor_Reading_57\",\n        \"type\": \"double\"\n      },\n      {\n        \"name\": \"Sensor_Reading_58\",\n        \"type\": \"double\"\n      },\n      {\n        \"name\": \"Sensor_Reading_59\",\n        \"type\": \"double\"\n      },\n      {\n        \"name\": \"Sensor_Reading_60\",\n        \"type\": \"double\"\n      },\n      {\n        \"name\": \"Survival_In_Days\",\n        \"type\": \"integer\"\n      },\n      {\n        \"name\": \"Reg\",\n        \"type\": {\n          \"base\": \"double\",\n          \"isNullable\": false,\n          \"type\": \"basic\"\n        }\n      },\n      {\n        \"name\": \"Manu_Year\",\n        \"type\": {\n          \"base\": \"double\",\n          \"isNullable\": false,\n          \"type\": \"basic\"\n        }\n      },\n      {\n        \"name\": \"features\",\n        \"type\": {\n          \"base\": \"double\",\n          \"dimensions\": [\n            70\n          ],\n          \"type\": \"tensor\"\n        }\n      },\n      {\n        \"name\": \"prediction\",\n        \"type\": {\n          \"base\": \"double\",\n          \"isNullable\": false,\n          \"type\": \"basic\"\n        }\n      }\n    ]\n  }\n}\n. { cd battery-life\n>> azdata app run --name battery-life --version v1 --input schema=@sample-data.json }\n>> \ncd : Cannot find path 'C:\\Users\\h1646\\temp\\battery-life\\battery-life' becau"
                }
            ],
            "execution_count": 18
        },
        {
            "cell_type": "markdown",
            "source": [
                "You can clean up the sample by running the following commands:"
            ],
            "metadata": {
                "azdata_cell_guid": "b5c57c29-940b-4afd-a982-b7459f7a76e5"
            }
        },
        {
            "cell_type": "code",
            "source": [
                "# delete app\r\n",
                "azdata app delete --name battery-life --version v1"
            ],
            "metadata": {
                "azdata_cell_guid": "493e7c47-88bd-4b4c-94ba-93d30904c88e"
            },
            "outputs": [],
            "execution_count": null
        }
    ]
}