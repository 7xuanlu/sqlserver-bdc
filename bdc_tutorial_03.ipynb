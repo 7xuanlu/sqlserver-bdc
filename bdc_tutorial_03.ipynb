{
    "metadata": {
        "kernelspec": {
            "name": "SQL",
            "display_name": "SQL",
            "language": "sql"
        },
        "language_info": {
            "name": "sql",
            "version": ""
        }
    },
    "nbformat_minor": 2,
    "nbformat": 4,
    "cells": [
        {
            "cell_type": "markdown",
            "source": [
                "<img src=\"https://github.com/Microsoft/sqlworkshops/blob/master/graphics/solutions-microsoft-logo-small.png?raw=true\" alt=\"Microsoft\">\r\n",
                "<br>\r\n",
                "\r\n",
                "# **SQL Server 2019 big data cluster Tutorial**\r\n",
                "## **03 - SQL Server Master Instance Queries**\r\n",
                "\r\n",
                "In this tutorial you will learn how to run standard SQL Server Queries against the Master Instance (MI) in a SQL Server big data cluster. \r\n",
                "\r\n",
                "You'll start with a simple set of queries to explore the Instance: \r\n",
                ""
            ],
            "metadata": {
                "azdata_cell_guid": "bca9df1d-585b-40c9-b61f-0f1d5bff4d74"
            }
        },
        {
            "cell_type": "code",
            "source": [
                "/* Instance Version */\r\n",
                "SELECT @@VERSION; \r\n",
                "GO\r\n",
                "\r\n",
                "/* General Configuration */\r\n",
                "USE master;  \r\n",
                "GO  \r\n",
                "EXEC sp_configure;\r\n",
                "GO\r\n",
                "\r\n",
                "/* Databases on this Instance */\r\n",
                "SELECT db.name AS 'Database Name'\r\n",
                ", Physical_Name AS 'Location on Disk'\r\n",
                ", Cast(Cast(Round(cast(mf.size as decimal) * 8.0/1024000.0,2) as decimal(18,2)) as nvarchar) 'Size (GB)'\r\n",
                "FROM sys.master_files mf\r\n",
                "INNER JOIN \r\n",
                "    sys.databases db ON db.database_id = mf.database_id\r\n",
                "WHERE mf.type_desc = 'ROWS';\r\n",
                "GO\r\n",
                "\r\n",
                "SELECT * from sys.master_files\r\n",
                ""
            ],
            "metadata": {
                "azdata_cell_guid": "245818aa-6bbd-44eb-832e-8c57f1dbe564"
            },
            "outputs": [
                {
                    "output_type": "display_data",
                    "data": {
                        "text/html": "(1 row affected)"
                    },
                    "metadata": {}
                },
                {
                    "output_type": "execute_result",
                    "execution_count": 1,
                    "data": {
                        "application/vnd.dataresource+json": {
                            "schema": {
                                "fields": [
                                    {
                                        "name": "(No column name)"
                                    }
                                ]
                            },
                            "data": [
                                {
                                    "0": "Microsoft SQL Server 2019 (RTM-GDR) (KB4517790) - 15.0.2070.41 (X64) \n\tOct 28 2019 19:56:59 \n\tCopyright (C) 2019 Microsoft Corporation\n\tDeveloper Edition (64-bit) on Linux (Ubuntu 16.04.6 LTS) <X64>"
                                }
                            ]
                        },
                        "text/html": "<table><tr><th>(No column name)</th></tr><tr><td>Microsoft SQL Server 2019 (RTM-GDR) (KB4517790) - 15.0.2070.41 (X64) \n\tOct 28 2019 19:56:59 \n\tCopyright (C) 2019 Microsoft Corporation\n\tDeveloper Edition (64-bit) on Linux (Ubuntu 16.04.6 LTS) &lt;X64&gt;</td></tr></table>"
                    },
                    "metadata": {}
                },
                {
                    "output_type": "display_data",
                    "data": {
                        "text/html": "Commands completed successfully."
                    },
                    "metadata": {}
                },
                {
                    "output_type": "display_data",
                    "data": {
                        "text/html": "Commands completed successfully."
                    },
                    "metadata": {}
                },
                {
                    "output_type": "execute_result",
                    "execution_count": 1,
                    "data": {
                        "application/vnd.dataresource+json": {
                            "schema": {
                                "fields": [
                                    {
                                        "name": "name"
                                    },
                                    {
                                        "name": "minimum"
                                    },
                                    {
                                        "name": "maximum"
                                    },
                                    {
                                        "name": "config_value"
                                    },
                                    {
                                        "name": "run_value"
                                    }
                                ]
                            },
                            "data": [
                                {
                                    "0": "allow polybase export",
                                    "1": "0",
                                    "2": "1",
                                    "3": "1",
                                    "4": "1"
                                },
                                {
                                    "0": "allow updates",
                                    "1": "0",
                                    "2": "1",
                                    "3": "0",
                                    "4": "0"
                                },
                                {
                                    "0": "backup checksum default",
                                    "1": "0",
                                    "2": "1",
                                    "3": "0",
                                    "4": "0"
                                },
                                {
                                    "0": "backup compression default",
                                    "1": "0",
                                    "2": "1",
                                    "3": "0",
                                    "4": "0"
                                },
                                {
                                    "0": "clr enabled",
                                    "1": "0",
                                    "2": "1",
                                    "3": "0",
                                    "4": "0"
                                },
                                {
                                    "0": "column encryption enclave type",
                                    "1": "0",
                                    "2": "2",
                                    "3": "0",
                                    "4": "0"
                                },
                                {
                                    "0": "contained database authentication",
                                    "1": "0",
                                    "2": "1",
                                    "3": "0",
                                    "4": "0"
                                },
                                {
                                    "0": "cross db ownership chaining",
                                    "1": "0",
                                    "2": "1",
                                    "3": "0",
                                    "4": "0"
                                },
                                {
                                    "0": "default language",
                                    "1": "0",
                                    "2": "9999",
                                    "3": "0",
                                    "4": "0"
                                },
                                {
                                    "0": "external scripts enabled",
                                    "1": "0",
                                    "2": "1",
                                    "3": "1",
                                    "4": "1"
                                },
                                {
                                    "0": "filestream access level",
                                    "1": "0",
                                    "2": "2",
                                    "3": "0",
                                    "4": "0"
                                },
                                {
                                    "0": "hadoop connectivity",
                                    "1": "0",
                                    "2": "7",
                                    "3": "7",
                                    "4": "7"
                                },
                                {
                                    "0": "max text repl size (B)",
                                    "1": "-1",
                                    "2": "2147483647",
                                    "3": "65536",
                                    "4": "65536"
                                },
                                {
                                    "0": "nested triggers",
                                    "1": "0",
                                    "2": "1",
                                    "3": "1",
                                    "4": "1"
                                },
                                {
                                    "0": "polybase enabled",
                                    "1": "0",
                                    "2": "1",
                                    "3": "1",
                                    "4": "1"
                                },
                                {
                                    "0": "polybase network encryption",
                                    "1": "0",
                                    "2": "1",
                                    "3": "1",
                                    "4": "1"
                                },
                                {
                                    "0": "remote access",
                                    "1": "0",
                                    "2": "1",
                                    "3": "1",
                                    "4": "1"
                                },
                                {
                                    "0": "remote admin connections",
                                    "1": "0",
                                    "2": "1",
                                    "3": "0",
                                    "4": "0"
                                },
                                {
                                    "0": "remote data archive",
                                    "1": "0",
                                    "2": "1",
                                    "3": "0",
                                    "4": "0"
                                },
                                {
                                    "0": "remote login timeout (s)",
                                    "1": "0",
                                    "2": "2147483647",
                                    "3": "10",
                                    "4": "10"
                                },
                                {
                                    "0": "remote proc trans",
                                    "1": "0",
                                    "2": "1",
                                    "3": "0",
                                    "4": "0"
                                },
                                {
                                    "0": "remote query timeout (s)",
                                    "1": "0",
                                    "2": "2147483647",
                                    "3": "600",
                                    "4": "600"
                                },
                                {
                                    "0": "server trigger recursion",
                                    "1": "0",
                                    "2": "1",
                                    "3": "1",
                                    "4": "1"
                                },
                                {
                                    "0": "show advanced options",
                                    "1": "0",
                                    "2": "1",
                                    "3": "0",
                                    "4": "0"
                                },
                                {
                                    "0": "user options",
                                    "1": "0",
                                    "2": "32767",
                                    "3": "0",
                                    "4": "0"
                                }
                            ]
                        },
                        "text/html": "<table><tr><th>name</th><th>minimum</th><th>maximum</th><th>config_value</th><th>run_value</th></tr><tr><td>allow polybase export</td><td>0</td><td>1</td><td>1</td><td>1</td></tr><tr><td>allow updates</td><td>0</td><td>1</td><td>0</td><td>0</td></tr><tr><td>backup checksum default</td><td>0</td><td>1</td><td>0</td><td>0</td></tr><tr><td>backup compression default</td><td>0</td><td>1</td><td>0</td><td>0</td></tr><tr><td>clr enabled</td><td>0</td><td>1</td><td>0</td><td>0</td></tr><tr><td>column encryption enclave type</td><td>0</td><td>2</td><td>0</td><td>0</td></tr><tr><td>contained database authentication</td><td>0</td><td>1</td><td>0</td><td>0</td></tr><tr><td>cross db ownership chaining</td><td>0</td><td>1</td><td>0</td><td>0</td></tr><tr><td>default language</td><td>0</td><td>9999</td><td>0</td><td>0</td></tr><tr><td>external scripts enabled</td><td>0</td><td>1</td><td>1</td><td>1</td></tr><tr><td>filestream access level</td><td>0</td><td>2</td><td>0</td><td>0</td></tr><tr><td>hadoop connectivity</td><td>0</td><td>7</td><td>7</td><td>7</td></tr><tr><td>max text repl size (B)</td><td>-1</td><td>2147483647</td><td>65536</td><td>65536</td></tr><tr><td>nested triggers</td><td>0</td><td>1</td><td>1</td><td>1</td></tr><tr><td>polybase enabled</td><td>0</td><td>1</td><td>1</td><td>1</td></tr><tr><td>polybase network encryption</td><td>0</td><td>1</td><td>1</td><td>1</td></tr><tr><td>remote access</td><td>0</td><td>1</td><td>1</td><td>1</td></tr><tr><td>remote admin connections</td><td>0</td><td>1</td><td>0</td><td>0</td></tr><tr><td>remote data archive</td><td>0</td><td>1</td><td>0</td><td>0</td></tr><tr><td>remote login timeout (s)</td><td>0</td><td>2147483647</td><td>10</td><td>10</td></tr><tr><td>remote proc trans</td><td>0</td><td>1</td><td>0</td><td>0</td></tr><tr><td>remote query timeout (s)</td><td>0</td><td>2147483647</td><td>600</td><td>600</td></tr><tr><td>server trigger recursion</td><td>0</td><td>1</td><td>1</td><td>1</td></tr><tr><td>show advanced options</td><td>0</td><td>1</td><td>0</td><td>0</td></tr><tr><td>user options</td><td>0</td><td>32767</td><td>0</td><td>0</td></tr></table>"
                    },
                    "metadata": {}
                },
                {
                    "output_type": "display_data",
                    "data": {
                        "text/html": "(17 rows affected)"
                    },
                    "metadata": {}
                },
                {
                    "output_type": "execute_result",
                    "execution_count": 1,
                    "data": {
                        "application/vnd.dataresource+json": {
                            "schema": {
                                "fields": [
                                    {
                                        "name": "Database Name"
                                    },
                                    {
                                        "name": "Location on Disk"
                                    },
                                    {
                                        "name": "Size (GB)"
                                    }
                                ]
                            },
                            "data": [
                                {
                                    "0": "master",
                                    "1": "/var/opt/mssql/data/master.mdf",
                                    "2": "0.00"
                                },
                                {
                                    "0": "tempdb",
                                    "1": "/var/opt/mssql/data/tempdb.mdf",
                                    "2": "0.01"
                                },
                                {
                                    "0": "tempdb",
                                    "1": "/var/opt/mssql/data/tempdb2.ndf",
                                    "2": "0.01"
                                },
                                {
                                    "0": "tempdb",
                                    "1": "/var/opt/mssql/data/tempdb3.ndf",
                                    "2": "0.01"
                                },
                                {
                                    "0": "tempdb",
                                    "1": "/var/opt/mssql/data/tempdb4.ndf",
                                    "2": "0.01"
                                },
                                {
                                    "0": "tempdb",
                                    "1": "/var/opt/mssql/data/tempdb5.ndf",
                                    "2": "0.01"
                                },
                                {
                                    "0": "tempdb",
                                    "1": "/var/opt/mssql/data/tempdb6.ndf",
                                    "2": "0.01"
                                },
                                {
                                    "0": "tempdb",
                                    "1": "/var/opt/mssql/data/tempdb7.ndf",
                                    "2": "0.01"
                                },
                                {
                                    "0": "tempdb",
                                    "1": "/var/opt/mssql/data/tempdb8.ndf",
                                    "2": "0.01"
                                },
                                {
                                    "0": "model",
                                    "1": "/var/opt/mssql/data/model.mdf",
                                    "2": "0.01"
                                },
                                {
                                    "0": "msdb",
                                    "1": "/var/opt/mssql/data/MSDBData.mdf",
                                    "2": "0.01"
                                },
                                {
                                    "0": "DWDiagnostics",
                                    "1": "/var/opt/mssql/data/DWDiagnostics.mdf",
                                    "2": "0.50"
                                },
                                {
                                    "0": "DWConfiguration",
                                    "1": "/var/opt/mssql/data/DWConfiguration.mdf",
                                    "2": "0.01"
                                },
                                {
                                    "0": "DWQueue",
                                    "1": "/var/opt/mssql/data/DWQueue.mdf",
                                    "2": "0.01"
                                },
                                {
                                    "0": "sales",
                                    "1": "/var/opt/mssql/data/tpcxbb_1gb.mdf",
                                    "2": "0.35"
                                },
                                {
                                    "0": "model_msdb",
                                    "1": "/var/opt/mssql/data/model_msdbdata.mdf",
                                    "2": "0.01"
                                },
                                {
                                    "0": "model_replicatedmaster",
                                    "1": "/var/opt/mssql/data/model_replicatedmaster.mdf",
                                    "2": "0.00"
                                }
                            ]
                        },
                        "text/html": "<table><tr><th>Database Name</th><th>Location on Disk</th><th>Size (GB)</th></tr><tr><td>master</td><td>/var/opt/mssql/data/master.mdf</td><td>0.00</td></tr><tr><td>tempdb</td><td>/var/opt/mssql/data/tempdb.mdf</td><td>0.01</td></tr><tr><td>tempdb</td><td>/var/opt/mssql/data/tempdb2.ndf</td><td>0.01</td></tr><tr><td>tempdb</td><td>/var/opt/mssql/data/tempdb3.ndf</td><td>0.01</td></tr><tr><td>tempdb</td><td>/var/opt/mssql/data/tempdb4.ndf</td><td>0.01</td></tr><tr><td>tempdb</td><td>/var/opt/mssql/data/tempdb5.ndf</td><td>0.01</td></tr><tr><td>tempdb</td><td>/var/opt/mssql/data/tempdb6.ndf</td><td>0.01</td></tr><tr><td>tempdb</td><td>/var/opt/mssql/data/tempdb7.ndf</td><td>0.01</td></tr><tr><td>tempdb</td><td>/var/opt/mssql/data/tempdb8.ndf</td><td>0.01</td></tr><tr><td>model</td><td>/var/opt/mssql/data/model.mdf</td><td>0.01</td></tr><tr><td>msdb</td><td>/var/opt/mssql/data/MSDBData.mdf</td><td>0.01</td></tr><tr><td>DWDiagnostics</td><td>/var/opt/mssql/data/DWDiagnostics.mdf</td><td>0.50</td></tr><tr><td>DWConfiguration</td><td>/var/opt/mssql/data/DWConfiguration.mdf</td><td>0.01</td></tr><tr><td>DWQueue</td><td>/var/opt/mssql/data/DWQueue.mdf</td><td>0.01</td></tr><tr><td>sales</td><td>/var/opt/mssql/data/tpcxbb_1gb.mdf</td><td>0.35</td></tr><tr><td>model_msdb</td><td>/var/opt/mssql/data/model_msdbdata.mdf</td><td>0.01</td></tr><tr><td>model_replicatedmaster</td><td>/var/opt/mssql/data/model_replicatedmaster.mdf</td><td>0.00</td></tr></table>"
                    },
                    "metadata": {}
                },
                {
                    "output_type": "display_data",
                    "data": {
                        "text/html": "(27 rows affected)"
                    },
                    "metadata": {}
                },
                {
                    "output_type": "display_data",
                    "data": {
                        "text/html": "Total execution time: 00:00:00.898"
                    },
                    "metadata": {}
                },
                {
                    "output_type": "execute_result",
                    "execution_count": 1,
                    "data": {
                        "application/vnd.dataresource+json": {
                            "schema": {
                                "fields": [
                                    {
                                        "name": "database_id"
                                    },
                                    {
                                        "name": "file_id"
                                    },
                                    {
                                        "name": "file_guid"
                                    },
                                    {
                                        "name": "type"
                                    },
                                    {
                                        "name": "type_desc"
                                    },
                                    {
                                        "name": "data_space_id"
                                    },
                                    {
                                        "name": "name"
                                    },
                                    {
                                        "name": "physical_name"
                                    },
                                    {
                                        "name": "state"
                                    },
                                    {
                                        "name": "state_desc"
                                    },
                                    {
                                        "name": "size"
                                    },
                                    {
                                        "name": "max_size"
                                    },
                                    {
                                        "name": "growth"
                                    },
                                    {
                                        "name": "is_media_read_only"
                                    },
                                    {
                                        "name": "is_read_only"
                                    },
                                    {
                                        "name": "is_sparse"
                                    },
                                    {
                                        "name": "is_percent_growth"
                                    },
                                    {
                                        "name": "is_name_reserved"
                                    },
                                    {
                                        "name": "is_persistent_log_buffer"
                                    },
                                    {
                                        "name": "create_lsn"
                                    },
                                    {
                                        "name": "drop_lsn"
                                    },
                                    {
                                        "name": "read_only_lsn"
                                    },
                                    {
                                        "name": "read_write_lsn"
                                    },
                                    {
                                        "name": "differential_base_lsn"
                                    },
                                    {
                                        "name": "differential_base_guid"
                                    },
                                    {
                                        "name": "differential_base_time"
                                    },
                                    {
                                        "name": "redo_start_lsn"
                                    },
                                    {
                                        "name": "redo_start_fork_guid"
                                    },
                                    {
                                        "name": "redo_target_lsn"
                                    },
                                    {
                                        "name": "redo_target_fork_guid"
                                    },
                                    {
                                        "name": "backup_lsn"
                                    },
                                    {
                                        "name": "credential_id"
                                    }
                                ]
                            },
                            "data": [
                                {
                                    "0": "1",
                                    "1": "1",
                                    "2": "NULL",
                                    "3": "0",
                                    "4": "ROWS",
                                    "5": "1",
                                    "6": "master",
                                    "7": "/var/opt/mssql/data/master.mdf",
                                    "8": "0",
                                    "9": "ONLINE",
                                    "10": "568",
                                    "11": "-1",
                                    "12": "10",
                                    "13": "0",
                                    "14": "0",
                                    "15": "0",
                                    "16": "1",
                                    "17": "0",
                                    "18": "0",
                                    "19": "NULL",
                                    "20": "NULL",
                                    "21": "NULL",
                                    "22": "NULL",
                                    "23": "NULL",
                                    "24": "NULL",
                                    "25": "NULL",
                                    "26": "NULL",
                                    "27": "NULL",
                                    "28": "NULL",
                                    "29": "NULL",
                                    "30": "NULL",
                                    "31": "NULL"
                                },
                                {
                                    "0": "1",
                                    "1": "2",
                                    "2": "NULL",
                                    "3": "1",
                                    "4": "LOG",
                                    "5": "0",
                                    "6": "mastlog",
                                    "7": "/var/opt/mssql/data/mastlog.ldf",
                                    "8": "0",
                                    "9": "ONLINE",
                                    "10": "256",
                                    "11": "-1",
                                    "12": "10",
                                    "13": "0",
                                    "14": "0",
                                    "15": "0",
                                    "16": "1",
                                    "17": "0",
                                    "18": "0",
                                    "19": "NULL",
                                    "20": "NULL",
                                    "21": "NULL",
                                    "22": "NULL",
                                    "23": "NULL",
                                    "24": "NULL",
                                    "25": "NULL",
                                    "26": "NULL",
                                    "27": "NULL",
                                    "28": "NULL",
                                    "29": "NULL",
                                    "30": "NULL",
                                    "31": "NULL"
                                },
                                {
                                    "0": "2",
                                    "1": "1",
                                    "2": "NULL",
                                    "3": "0",
                                    "4": "ROWS",
                                    "5": "1",
                                    "6": "tempdev",
                                    "7": "/var/opt/mssql/data/tempdb.mdf",
                                    "8": "0",
                                    "9": "ONLINE",
                                    "10": "1024",
                                    "11": "-1",
                                    "12": "8192",
                                    "13": "0",
                                    "14": "0",
                                    "15": "0",
                                    "16": "0",
                                    "17": "0",
                                    "18": "0",
                                    "19": "NULL",
                                    "20": "NULL",
                                    "21": "NULL",
                                    "22": "NULL",
                                    "23": "NULL",
                                    "24": "NULL",
                                    "25": "NULL",
                                    "26": "NULL",
                                    "27": "NULL",
                                    "28": "NULL",
                                    "29": "NULL",
                                    "30": "NULL",
                                    "31": "NULL"
                                },
                                {
                                    "0": "2",
                                    "1": "2",
                                    "2": "NULL",
                                    "3": "1",
                                    "4": "LOG",
                                    "5": "0",
                                    "6": "templog",
                                    "7": "/var/opt/mssql/data/templog.ldf",
                                    "8": "0",
                                    "9": "ONLINE",
                                    "10": "1024",
                                    "11": "-1",
                                    "12": "8192",
                                    "13": "0",
                                    "14": "0",
                                    "15": "0",
                                    "16": "0",
                                    "17": "0",
                                    "18": "0",
                                    "19": "NULL",
                                    "20": "NULL",
                                    "21": "NULL",
                                    "22": "NULL",
                                    "23": "NULL",
                                    "24": "NULL",
                                    "25": "NULL",
                                    "26": "NULL",
                                    "27": "NULL",
                                    "28": "NULL",
                                    "29": "NULL",
                                    "30": "NULL",
                                    "31": "NULL"
                                },
                                {
                                    "0": "2",
                                    "1": "3",
                                    "2": "cfa9928d-e2fc-49e2-b551-230fbe674caa",
                                    "3": "0",
                                    "4": "ROWS",
                                    "5": "1",
                                    "6": "tempdev2",
                                    "7": "/var/opt/mssql/data/tempdb2.ndf",
                                    "8": "0",
                                    "9": "ONLINE",
                                    "10": "1024",
                                    "11": "-1",
                                    "12": "8192",
                                    "13": "0",
                                    "14": "0",
                                    "15": "0",
                                    "16": "0",
                                    "17": "0",
                                    "18": "0",
                                    "19": "36000000002400009",
                                    "20": "NULL",
                                    "21": "NULL",
                                    "22": "NULL",
                                    "23": "NULL",
                                    "24": "NULL",
                                    "25": "NULL",
                                    "26": "NULL",
                                    "27": "NULL",
                                    "28": "NULL",
                                    "29": "NULL",
                                    "30": "NULL",
                                    "31": "NULL"
                                },
                                {
                                    "0": "2",
                                    "1": "4",
                                    "2": "38218830-ee56-44a4-b742-f3b98e731686",
                                    "3": "0",
                                    "4": "ROWS",
                                    "5": "1",
                                    "6": "tempdev3",
                                    "7": "/var/opt/mssql/data/tempdb3.ndf",
                                    "8": "0",
                                    "9": "ONLINE",
                                    "10": "1024",
                                    "11": "-1",
                                    "12": "8192",
                                    "13": "0",
                                    "14": "0",
                                    "15": "0",
                                    "16": "0",
                                    "17": "0",
                                    "18": "0",
                                    "19": "36000000004000006",
                                    "20": "NULL",
                                    "21": "NULL",
                                    "22": "NULL",
                                    "23": "NULL",
                                    "24": "NULL",
                                    "25": "NULL",
                                    "26": "NULL",
                                    "27": "NULL",
                                    "28": "NULL",
                                    "29": "NULL",
                                    "30": "NULL",
                                    "31": "NULL"
                                },
                                {
                                    "0": "2",
                                    "1": "5",
                                    "2": "bbf69e78-050d-40ba-b486-8d2ac08110ab",
                                    "3": "0",
                                    "4": "ROWS",
                                    "5": "1",
                                    "6": "tempdev4",
                                    "7": "/var/opt/mssql/data/tempdb4.ndf",
                                    "8": "0",
                                    "9": "ONLINE",
                                    "10": "1024",
                                    "11": "-1",
                                    "12": "8192",
                                    "13": "0",
                                    "14": "0",
                                    "15": "0",
                                    "16": "0",
                                    "17": "0",
                                    "18": "0",
                                    "19": "36000000005600006",
                                    "20": "NULL",
                                    "21": "NULL",
                                    "22": "NULL",
                                    "23": "NULL",
                                    "24": "NULL",
                                    "25": "NULL",
                                    "26": "NULL",
                                    "27": "NULL",
                                    "28": "NULL",
                                    "29": "NULL",
                                    "30": "NULL",
                                    "31": "NULL"
                                },
                                {
                                    "0": "2",
                                    "1": "6",
                                    "2": "f8689680-ee42-4923-b041-198a31502637",
                                    "3": "0",
                                    "4": "ROWS",
                                    "5": "1",
                                    "6": "tempdev5",
                                    "7": "/var/opt/mssql/data/tempdb5.ndf",
                                    "8": "0",
                                    "9": "ONLINE",
                                    "10": "1024",
                                    "11": "-1",
                                    "12": "8192",
                                    "13": "0",
                                    "14": "0",
                                    "15": "0",
                                    "16": "0",
                                    "17": "0",
                                    "18": "0",
                                    "19": "36000000007200006",
                                    "20": "NULL",
                                    "21": "NULL",
                                    "22": "NULL",
                                    "23": "NULL",
                                    "24": "NULL",
                                    "25": "NULL",
                                    "26": "NULL",
                                    "27": "NULL",
                                    "28": "NULL",
                                    "29": "NULL",
                                    "30": "NULL",
                                    "31": "NULL"
                                },
                                {
                                    "0": "2",
                                    "1": "7",
                                    "2": "cee56e12-f292-4db2-84eb-33e153131b73",
                                    "3": "0",
                                    "4": "ROWS",
                                    "5": "1",
                                    "6": "tempdev6",
                                    "7": "/var/opt/mssql/data/tempdb6.ndf",
                                    "8": "0",
                                    "9": "ONLINE",
                                    "10": "1024",
                                    "11": "-1",
                                    "12": "8192",
                                    "13": "0",
                                    "14": "0",
                                    "15": "0",
                                    "16": "0",
                                    "17": "0",
                                    "18": "0",
                                    "19": "36000000008800006",
                                    "20": "NULL",
                                    "21": "NULL",
                                    "22": "NULL",
                                    "23": "NULL",
                                    "24": "NULL",
                                    "25": "NULL",
                                    "26": "NULL",
                                    "27": "NULL",
                                    "28": "NULL",
                                    "29": "NULL",
                                    "30": "NULL",
                                    "31": "NULL"
                                },
                                {
                                    "0": "2",
                                    "1": "8",
                                    "2": "f37a9e8b-7496-480f-9b26-e0e8b7681eaa",
                                    "3": "0",
                                    "4": "ROWS",
                                    "5": "1",
                                    "6": "tempdev7",
                                    "7": "/var/opt/mssql/data/tempdb7.ndf",
                                    "8": "0",
                                    "9": "ONLINE",
                                    "10": "1024",
                                    "11": "-1",
                                    "12": "8192",
                                    "13": "0",
                                    "14": "0",
                                    "15": "0",
                                    "16": "0",
                                    "17": "0",
                                    "18": "0",
                                    "19": "36000000010400006",
                                    "20": "NULL",
                                    "21": "NULL",
                                    "22": "NULL",
                                    "23": "NULL",
                                    "24": "NULL",
                                    "25": "NULL",
                                    "26": "NULL",
                                    "27": "NULL",
                                    "28": "NULL",
                                    "29": "NULL",
                                    "30": "NULL",
                                    "31": "NULL"
                                },
                                {
                                    "0": "2",
                                    "1": "9",
                                    "2": "dabdfea0-fd50-4f95-adf4-b76675561d2c",
                                    "3": "0",
                                    "4": "ROWS",
                                    "5": "1",
                                    "6": "tempdev8",
                                    "7": "/var/opt/mssql/data/tempdb8.ndf",
                                    "8": "0",
                                    "9": "ONLINE",
                                    "10": "1024",
                                    "11": "-1",
                                    "12": "8192",
                                    "13": "0",
                                    "14": "0",
                                    "15": "0",
                                    "16": "0",
                                    "17": "0",
                                    "18": "0",
                                    "19": "36000000012000006",
                                    "20": "NULL",
                                    "21": "NULL",
                                    "22": "NULL",
                                    "23": "NULL",
                                    "24": "NULL",
                                    "25": "NULL",
                                    "26": "NULL",
                                    "27": "NULL",
                                    "28": "NULL",
                                    "29": "NULL",
                                    "30": "NULL",
                                    "31": "NULL"
                                },
                                {
                                    "0": "3",
                                    "1": "1",
                                    "2": "NULL",
                                    "3": "0",
                                    "4": "ROWS",
                                    "5": "1",
                                    "6": "modeldev",
                                    "7": "/var/opt/mssql/data/model.mdf",
                                    "8": "0",
                                    "9": "ONLINE",
                                    "10": "1024",
                                    "11": "-1",
                                    "12": "8192",
                                    "13": "0",
                                    "14": "0",
                                    "15": "0",
                                    "16": "0",
                                    "17": "0",
                                    "18": "0",
                                    "19": "NULL",
                                    "20": "NULL",
                                    "21": "NULL",
                                    "22": "NULL",
                                    "23": "NULL",
                                    "24": "NULL",
                                    "25": "NULL",
                                    "26": "NULL",
                                    "27": "NULL",
                                    "28": "NULL",
                                    "29": "NULL",
                                    "30": "NULL",
                                    "31": "NULL"
                                },
                                {
                                    "0": "3",
                                    "1": "2",
                                    "2": "NULL",
                                    "3": "1",
                                    "4": "LOG",
                                    "5": "0",
                                    "6": "modellog",
                                    "7": "/var/opt/mssql/data/modellog.ldf",
                                    "8": "0",
                                    "9": "ONLINE",
                                    "10": "1024",
                                    "11": "-1",
                                    "12": "8192",
                                    "13": "0",
                                    "14": "0",
                                    "15": "0",
                                    "16": "0",
                                    "17": "0",
                                    "18": "0",
                                    "19": "NULL",
                                    "20": "NULL",
                                    "21": "NULL",
                                    "22": "NULL",
                                    "23": "NULL",
                                    "24": "NULL",
                                    "25": "NULL",
                                    "26": "NULL",
                                    "27": "NULL",
                                    "28": "NULL",
                                    "29": "NULL",
                                    "30": "NULL",
                                    "31": "NULL"
                                },
                                {
                                    "0": "4",
                                    "1": "1",
                                    "2": "a167cd0d-dcaf-44dc-84af-c1ca36be1a88",
                                    "3": "0",
                                    "4": "ROWS",
                                    "5": "1",
                                    "6": "MSDBData",
                                    "7": "/var/opt/mssql/data/MSDBData.mdf",
                                    "8": "0",
                                    "9": "ONLINE",
                                    "10": "1888",
                                    "11": "-1",
                                    "12": "10",
                                    "13": "0",
                                    "14": "0",
                                    "15": "0",
                                    "16": "1",
                                    "17": "0",
                                    "18": "0",
                                    "19": "NULL",
                                    "20": "NULL",
                                    "21": "NULL",
                                    "22": "NULL",
                                    "23": "NULL",
                                    "24": "NULL",
                                    "25": "NULL",
                                    "26": "NULL",
                                    "27": "NULL",
                                    "28": "NULL",
                                    "29": "NULL",
                                    "30": "NULL",
                                    "31": "NULL"
                                },
                                {
                                    "0": "4",
                                    "1": "2",
                                    "2": "f0c81001-4adf-4dcc-b4d4-956a5451d192",
                                    "3": "1",
                                    "4": "LOG",
                                    "5": "0",
                                    "6": "MSDBLog",
                                    "7": "/var/opt/mssql/data/MSDBLog.ldf",
                                    "8": "0",
                                    "9": "ONLINE",
                                    "10": "96",
                                    "11": "268435456",
                                    "12": "10",
                                    "13": "0",
                                    "14": "0",
                                    "15": "0",
                                    "16": "1",
                                    "17": "0",
                                    "18": "0",
                                    "19": "NULL",
                                    "20": "NULL",
                                    "21": "NULL",
                                    "22": "NULL",
                                    "23": "NULL",
                                    "24": "NULL",
                                    "25": "NULL",
                                    "26": "NULL",
                                    "27": "NULL",
                                    "28": "NULL",
                                    "29": "NULL",
                                    "30": "NULL",
                                    "31": "NULL"
                                },
                                {
                                    "0": "5",
                                    "1": "1",
                                    "2": "147896be-d050-4768-9fff-74f1a40c0a0e",
                                    "3": "0",
                                    "4": "ROWS",
                                    "5": "1",
                                    "6": "DWDiagnostics",
                                    "7": "/var/opt/mssql/data/DWDiagnostics.mdf",
                                    "8": "0",
                                    "9": "ONLINE",
                                    "10": "64000",
                                    "11": "256000",
                                    "12": "8192",
                                    "13": "0",
                                    "14": "0",
                                    "15": "0",
                                    "16": "0",
                                    "17": "0",
                                    "18": "0",
                                    "19": "NULL",
                                    "20": "NULL",
                                    "21": "NULL",
                                    "22": "NULL",
                                    "23": "NULL",
                                    "24": "NULL",
                                    "25": "NULL",
                                    "26": "NULL",
                                    "27": "NULL",
                                    "28": "NULL",
                                    "29": "NULL",
                                    "30": "NULL",
                                    "31": "NULL"
                                },
                                {
                                    "0": "5",
                                    "1": "2",
                                    "2": "bd0207a2-0775-4d95-9b3e-6fe04fd93fc2",
                                    "3": "1",
                                    "4": "LOG",
                                    "5": "0",
                                    "6": "DWDiagnostics_log",
                                    "7": "/var/opt/mssql/data/DWDiagnostics_log.ldf",
                                    "8": "0",
                                    "9": "ONLINE",
                                    "10": "9216",
                                    "11": "268435456",
                                    "12": "8192",
                                    "13": "0",
                                    "14": "0",
                                    "15": "0",
                                    "16": "0",
                                    "17": "0",
                                    "18": "0",
                                    "19": "NULL",
                                    "20": "NULL",
                                    "21": "NULL",
                                    "22": "NULL",
                                    "23": "NULL",
                                    "24": "NULL",
                                    "25": "NULL",
                                    "26": "NULL",
                                    "27": "NULL",
                                    "28": "NULL",
                                    "29": "NULL",
                                    "30": "NULL",
                                    "31": "NULL"
                                },
                                {
                                    "0": "6",
                                    "1": "1",
                                    "2": "6eb1e396-1292-47ed-a169-3f4ffe00654d",
                                    "3": "0",
                                    "4": "ROWS",
                                    "5": "1",
                                    "6": "DWConfiguration",
                                    "7": "/var/opt/mssql/data/DWConfiguration.mdf",
                                    "8": "0",
                                    "9": "ONLINE",
                                    "10": "1024",
                                    "11": "-1",
                                    "12": "8192",
                                    "13": "0",
                                    "14": "0",
                                    "15": "0",
                                    "16": "0",
                                    "17": "0",
                                    "18": "0",
                                    "19": "NULL",
                                    "20": "NULL",
                                    "21": "NULL",
                                    "22": "NULL",
                                    "23": "NULL",
                                    "24": "NULL",
                                    "25": "NULL",
                                    "26": "NULL",
                                    "27": "NULL",
                                    "28": "NULL",
                                    "29": "NULL",
                                    "30": "NULL",
                                    "31": "NULL"
                                },
                                {
                                    "0": "6",
                                    "1": "2",
                                    "2": "071aee40-0a1e-4fb4-a33e-aba4ce446ee3",
                                    "3": "1",
                                    "4": "LOG",
                                    "5": "0",
                                    "6": "DWConfiguration_log",
                                    "7": "/var/opt/mssql/data/DWConfiguration_log.ldf",
                                    "8": "0",
                                    "9": "ONLINE",
                                    "10": "1024",
                                    "11": "268435456",
                                    "12": "8192",
                                    "13": "0",
                                    "14": "0",
                                    "15": "0",
                                    "16": "0",
                                    "17": "0",
                                    "18": "0",
                                    "19": "NULL",
                                    "20": "NULL",
                                    "21": "NULL",
                                    "22": "NULL",
                                    "23": "NULL",
                                    "24": "NULL",
                                    "25": "NULL",
                                    "26": "NULL",
                                    "27": "NULL",
                                    "28": "NULL",
                                    "29": "NULL",
                                    "30": "NULL",
                                    "31": "NULL"
                                },
                                {
                                    "0": "7",
                                    "1": "1",
                                    "2": "f2215934-610b-4030-b873-2e1ecd9e2df7",
                                    "3": "0",
                                    "4": "ROWS",
                                    "5": "1",
                                    "6": "DWQueue",
                                    "7": "/var/opt/mssql/data/DWQueue.mdf",
                                    "8": "0",
                                    "9": "ONLINE",
                                    "10": "1024",
                                    "11": "-1",
                                    "12": "8192",
                                    "13": "0",
                                    "14": "0",
                                    "15": "0",
                                    "16": "0",
                                    "17": "0",
                                    "18": "0",
                                    "19": "NULL",
                                    "20": "NULL",
                                    "21": "NULL",
                                    "22": "NULL",
                                    "23": "NULL",
                                    "24": "NULL",
                                    "25": "NULL",
                                    "26": "NULL",
                                    "27": "NULL",
                                    "28": "NULL",
                                    "29": "NULL",
                                    "30": "NULL",
                                    "31": "NULL"
                                },
                                {
                                    "0": "7",
                                    "1": "2",
                                    "2": "88065bbf-87e5-4efc-ab03-a50c314788ab",
                                    "3": "1",
                                    "4": "LOG",
                                    "5": "0",
                                    "6": "DWQueue_log",
                                    "7": "/var/opt/mssql/data/DWQueue_log.ldf",
                                    "8": "0",
                                    "9": "ONLINE",
                                    "10": "1024",
                                    "11": "268435456",
                                    "12": "8192",
                                    "13": "0",
                                    "14": "0",
                                    "15": "0",
                                    "16": "0",
                                    "17": "0",
                                    "18": "0",
                                    "19": "NULL",
                                    "20": "NULL",
                                    "21": "NULL",
                                    "22": "NULL",
                                    "23": "NULL",
                                    "24": "NULL",
                                    "25": "NULL",
                                    "26": "NULL",
                                    "27": "NULL",
                                    "28": "NULL",
                                    "29": "NULL",
                                    "30": "NULL",
                                    "31": "NULL"
                                },
                                {
                                    "0": "8",
                                    "1": "1",
                                    "2": "bb4cd557-9534-4316-bb45-76a090a5d169",
                                    "3": "0",
                                    "4": "ROWS",
                                    "5": "1",
                                    "6": "tpcxbb_1gb",
                                    "7": "/var/opt/mssql/data/tpcxbb_1gb.mdf",
                                    "8": "0",
                                    "9": "ONLINE",
                                    "10": "44752",
                                    "11": "-1",
                                    "12": "8192",
                                    "13": "0",
                                    "14": "0",
                                    "15": "0",
                                    "16": "0",
                                    "17": "0",
                                    "18": "0",
                                    "19": "NULL",
                                    "20": "NULL",
                                    "21": "NULL",
                                    "22": "NULL",
                                    "23": "70000000148300058",
                                    "24": "f2659216-ec16-4f32-80e8-bcd5f128e851",
                                    "25": "2018-10-23 17:17:37.887",
                                    "26": "NULL",
                                    "27": "NULL",
                                    "28": "NULL",
                                    "29": "NULL",
                                    "30": "NULL",
                                    "31": "NULL"
                                },
                                {
                                    "0": "8",
                                    "1": "2",
                                    "2": "4404be77-fa52-4619-b860-ef5d31ae056f",
                                    "3": "1",
                                    "4": "LOG",
                                    "5": "0",
                                    "6": "tpcxbb_1gb_log",
                                    "7": "/var/opt/mssql/data/tpcxbb_1gb.ldf",
                                    "8": "0",
                                    "9": "ONLINE",
                                    "10": "1024",
                                    "11": "268435456",
                                    "12": "8192",
                                    "13": "0",
                                    "14": "0",
                                    "15": "0",
                                    "16": "0",
                                    "17": "0",
                                    "18": "0",
                                    "19": "NULL",
                                    "20": "NULL",
                                    "21": "NULL",
                                    "22": "NULL",
                                    "23": "NULL",
                                    "24": "NULL",
                                    "25": "NULL",
                                    "26": "NULL",
                                    "27": "NULL",
                                    "28": "NULL",
                                    "29": "NULL",
                                    "30": "NULL",
                                    "31": "NULL"
                                },
                                {
                                    "0": "32761",
                                    "1": "1",
                                    "2": "a167cd0d-dcaf-44dc-84af-c1ca36be1a88",
                                    "3": "0",
                                    "4": "ROWS",
                                    "5": "1",
                                    "6": "MSDBData",
                                    "7": "/var/opt/mssql/data/model_msdbdata.mdf",
                                    "8": "0",
                                    "9": "ONLINE",
                                    "10": "1888",
                                    "11": "-1",
                                    "12": "10",
                                    "13": "0",
                                    "14": "0",
                                    "15": "0",
                                    "16": "1",
                                    "17": "0",
                                    "18": "0",
                                    "19": "NULL",
                                    "20": "NULL",
                                    "21": "NULL",
                                    "22": "NULL",
                                    "23": "NULL",
                                    "24": "NULL",
                                    "25": "NULL",
                                    "26": "NULL",
                                    "27": "NULL",
                                    "28": "NULL",
                                    "29": "NULL",
                                    "30": "NULL",
                                    "31": "NULL"
                                },
                                {
                                    "0": "32761",
                                    "1": "2",
                                    "2": "f0c81001-4adf-4dcc-b4d4-956a5451d192",
                                    "3": "1",
                                    "4": "LOG",
                                    "5": "0",
                                    "6": "MSDBLog",
                                    "7": "/var/opt/mssql/data/model_msdblog.ldf",
                                    "8": "0",
                                    "9": "ONLINE",
                                    "10": "96",
                                    "11": "268435456",
                                    "12": "10",
                                    "13": "0",
                                    "14": "0",
                                    "15": "0",
                                    "16": "1",
                                    "17": "0",
                                    "18": "0",
                                    "19": "NULL",
                                    "20": "NULL",
                                    "21": "NULL",
                                    "22": "NULL",
                                    "23": "NULL",
                                    "24": "NULL",
                                    "25": "NULL",
                                    "26": "NULL",
                                    "27": "NULL",
                                    "28": "NULL",
                                    "29": "NULL",
                                    "30": "NULL",
                                    "31": "NULL"
                                },
                                {
                                    "0": "32762",
                                    "1": "1",
                                    "2": "2ff1aca6-721f-4fc6-aacd-42a2679021cb",
                                    "3": "0",
                                    "4": "ROWS",
                                    "5": "1",
                                    "6": "replicatedmaster",
                                    "7": "/var/opt/mssql/data/model_replicatedmaster.mdf",
                                    "8": "0",
                                    "9": "ONLINE",
                                    "10": "568",
                                    "11": "-1",
                                    "12": "10",
                                    "13": "0",
                                    "14": "0",
                                    "15": "0",
                                    "16": "1",
                                    "17": "0",
                                    "18": "0",
                                    "19": "NULL",
                                    "20": "NULL",
                                    "21": "NULL",
                                    "22": "NULL",
                                    "23": "NULL",
                                    "24": "NULL",
                                    "25": "NULL",
                                    "26": "NULL",
                                    "27": "NULL",
                                    "28": "NULL",
                                    "29": "NULL",
                                    "30": "NULL",
                                    "31": "NULL"
                                },
                                {
                                    "0": "32762",
                                    "1": "2",
                                    "2": "fe42d4f2-6193-4c5d-b52a-44f0efec135b",
                                    "3": "1",
                                    "4": "LOG",
                                    "5": "0",
                                    "6": "replicatedmasterlog",
                                    "7": "/var/opt/mssql/data/model_replicatedmaster.ldf",
                                    "8": "0",
                                    "9": "ONLINE",
                                    "10": "288",
                                    "11": "268435456",
                                    "12": "10",
                                    "13": "0",
                                    "14": "0",
                                    "15": "0",
                                    "16": "1",
                                    "17": "0",
                                    "18": "0",
                                    "19": "NULL",
                                    "20": "NULL",
                                    "21": "NULL",
                                    "22": "NULL",
                                    "23": "NULL",
                                    "24": "NULL",
                                    "25": "NULL",
                                    "26": "NULL",
                                    "27": "NULL",
                                    "28": "NULL",
                                    "29": "NULL",
                                    "30": "NULL",
                                    "31": "NULL"
                                }
                            ]
                        },
                        "text/html": "<table><tr><th>database_id</th><th>file_id</th><th>file_guid</th><th>type</th><th>type_desc</th><th>data_space_id</th><th>name</th><th>physical_name</th><th>state</th><th>state_desc</th><th>size</th><th>max_size</th><th>growth</th><th>is_media_read_only</th><th>is_read_only</th><th>is_sparse</th><th>is_percent_growth</th><th>is_name_reserved</th><th>is_persistent_log_buffer</th><th>create_lsn</th><th>drop_lsn</th><th>read_only_lsn</th><th>read_write_lsn</th><th>differential_base_lsn</th><th>differential_base_guid</th><th>differential_base_time</th><th>redo_start_lsn</th><th>redo_start_fork_guid</th><th>redo_target_lsn</th><th>redo_target_fork_guid</th><th>backup_lsn</th><th>credential_id</th></tr><tr><td>1</td><td>1</td><td>NULL</td><td>0</td><td>ROWS</td><td>1</td><td>master</td><td>/var/opt/mssql/data/master.mdf</td><td>0</td><td>ONLINE</td><td>568</td><td>-1</td><td>10</td><td>0</td><td>0</td><td>0</td><td>1</td><td>0</td><td>0</td><td>NULL</td><td>NULL</td><td>NULL</td><td>NULL</td><td>NULL</td><td>NULL</td><td>NULL</td><td>NULL</td><td>NULL</td><td>NULL</td><td>NULL</td><td>NULL</td><td>NULL</td></tr><tr><td>1</td><td>2</td><td>NULL</td><td>1</td><td>LOG</td><td>0</td><td>mastlog</td><td>/var/opt/mssql/data/mastlog.ldf</td><td>0</td><td>ONLINE</td><td>256</td><td>-1</td><td>10</td><td>0</td><td>0</td><td>0</td><td>1</td><td>0</td><td>0</td><td>NULL</td><td>NULL</td><td>NULL</td><td>NULL</td><td>NULL</td><td>NULL</td><td>NULL</td><td>NULL</td><td>NULL</td><td>NULL</td><td>NULL</td><td>NULL</td><td>NULL</td></tr><tr><td>2</td><td>1</td><td>NULL</td><td>0</td><td>ROWS</td><td>1</td><td>tempdev</td><td>/var/opt/mssql/data/tempdb.mdf</td><td>0</td><td>ONLINE</td><td>1024</td><td>-1</td><td>8192</td><td>0</td><td>0</td><td>0</td><td>0</td><td>0</td><td>0</td><td>NULL</td><td>NULL</td><td>NULL</td><td>NULL</td><td>NULL</td><td>NULL</td><td>NULL</td><td>NULL</td><td>NULL</td><td>NULL</td><td>NULL</td><td>NULL</td><td>NULL</td></tr><tr><td>2</td><td>2</td><td>NULL</td><td>1</td><td>LOG</td><td>0</td><td>templog</td><td>/var/opt/mssql/data/templog.ldf</td><td>0</td><td>ONLINE</td><td>1024</td><td>-1</td><td>8192</td><td>0</td><td>0</td><td>0</td><td>0</td><td>0</td><td>0</td><td>NULL</td><td>NULL</td><td>NULL</td><td>NULL</td><td>NULL</td><td>NULL</td><td>NULL</td><td>NULL</td><td>NULL</td><td>NULL</td><td>NULL</td><td>NULL</td><td>NULL</td></tr><tr><td>2</td><td>3</td><td>cfa9928d-e2fc-49e2-b551-230fbe674caa</td><td>0</td><td>ROWS</td><td>1</td><td>tempdev2</td><td>/var/opt/mssql/data/tempdb2.ndf</td><td>0</td><td>ONLINE</td><td>1024</td><td>-1</td><td>8192</td><td>0</td><td>0</td><td>0</td><td>0</td><td>0</td><td>0</td><td>36000000002400009</td><td>NULL</td><td>NULL</td><td>NULL</td><td>NULL</td><td>NULL</td><td>NULL</td><td>NULL</td><td>NULL</td><td>NULL</td><td>NULL</td><td>NULL</td><td>NULL</td></tr><tr><td>2</td><td>4</td><td>38218830-ee56-44a4-b742-f3b98e731686</td><td>0</td><td>ROWS</td><td>1</td><td>tempdev3</td><td>/var/opt/mssql/data/tempdb3.ndf</td><td>0</td><td>ONLINE</td><td>1024</td><td>-1</td><td>8192</td><td>0</td><td>0</td><td>0</td><td>0</td><td>0</td><td>0</td><td>36000000004000006</td><td>NULL</td><td>NULL</td><td>NULL</td><td>NULL</td><td>NULL</td><td>NULL</td><td>NULL</td><td>NULL</td><td>NULL</td><td>NULL</td><td>NULL</td><td>NULL</td></tr><tr><td>2</td><td>5</td><td>bbf69e78-050d-40ba-b486-8d2ac08110ab</td><td>0</td><td>ROWS</td><td>1</td><td>tempdev4</td><td>/var/opt/mssql/data/tempdb4.ndf</td><td>0</td><td>ONLINE</td><td>1024</td><td>-1</td><td>8192</td><td>0</td><td>0</td><td>0</td><td>0</td><td>0</td><td>0</td><td>36000000005600006</td><td>NULL</td><td>NULL</td><td>NULL</td><td>NULL</td><td>NULL</td><td>NULL</td><td>NULL</td><td>NULL</td><td>NULL</td><td>NULL</td><td>NULL</td><td>NULL</td></tr><tr><td>2</td><td>6</td><td>f8689680-ee42-4923-b041-198a31502637</td><td>0</td><td>ROWS</td><td>1</td><td>tempdev5</td><td>/var/opt/mssql/data/tempdb5.ndf</td><td>0</td><td>ONLINE</td><td>1024</td><td>-1</td><td>8192</td><td>0</td><td>0</td><td>0</td><td>0</td><td>0</td><td>0</td><td>36000000007200006</td><td>NULL</td><td>NULL</td><td>NULL</td><td>NULL</td><td>NULL</td><td>NULL</td><td>NULL</td><td>NULL</td><td>NULL</td><td>NULL</td><td>NULL</td><td>NULL</td></tr><tr><td>2</td><td>7</td><td>cee56e12-f292-4db2-84eb-33e153131b73</td><td>0</td><td>ROWS</td><td>1</td><td>tempdev6</td><td>/var/opt/mssql/data/tempdb6.ndf</td><td>0</td><td>ONLINE</td><td>1024</td><td>-1</td><td>8192</td><td>0</td><td>0</td><td>0</td><td>0</td><td>0</td><td>0</td><td>36000000008800006</td><td>NULL</td><td>NULL</td><td>NULL</td><td>NULL</td><td>NULL</td><td>NULL</td><td>NULL</td><td>NULL</td><td>NULL</td><td>NULL</td><td>NULL</td><td>NULL</td></tr><tr><td>2</td><td>8</td><td>f37a9e8b-7496-480f-9b26-e0e8b7681eaa</td><td>0</td><td>ROWS</td><td>1</td><td>tempdev7</td><td>/var/opt/mssql/data/tempdb7.ndf</td><td>0</td><td>ONLINE</td><td>1024</td><td>-1</td><td>8192</td><td>0</td><td>0</td><td>0</td><td>0</td><td>0</td><td>0</td><td>36000000010400006</td><td>NULL</td><td>NULL</td><td>NULL</td><td>NULL</td><td>NULL</td><td>NULL</td><td>NULL</td><td>NULL</td><td>NULL</td><td>NULL</td><td>NULL</td><td>NULL</td></tr><tr><td>2</td><td>9</td><td>dabdfea0-fd50-4f95-adf4-b76675561d2c</td><td>0</td><td>ROWS</td><td>1</td><td>tempdev8</td><td>/var/opt/mssql/data/tempdb8.ndf</td><td>0</td><td>ONLINE</td><td>1024</td><td>-1</td><td>8192</td><td>0</td><td>0</td><td>0</td><td>0</td><td>0</td><td>0</td><td>36000000012000006</td><td>NULL</td><td>NULL</td><td>NULL</td><td>NULL</td><td>NULL</td><td>NULL</td><td>NULL</td><td>NULL</td><td>NULL</td><td>NULL</td><td>NULL</td><td>NULL</td></tr><tr><td>3</td><td>1</td><td>NULL</td><td>0</td><td>ROWS</td><td>1</td><td>modeldev</td><td>/var/opt/mssql/data/model.mdf</td><td>0</td><td>ONLINE</td><td>1024</td><td>-1</td><td>8192</td><td>0</td><td>0</td><td>0</td><td>0</td><td>0</td><td>0</td><td>NULL</td><td>NULL</td><td>NULL</td><td>NULL</td><td>NULL</td><td>NULL</td><td>NULL</td><td>NULL</td><td>NULL</td><td>NULL</td><td>NULL</td><td>NULL</td><td>NULL</td></tr><tr><td>3</td><td>2</td><td>NULL</td><td>1</td><td>LOG</td><td>0</td><td>modellog</td><td>/var/opt/mssql/data/modellog.ldf</td><td>0</td><td>ONLINE</td><td>1024</td><td>-1</td><td>8192</td><td>0</td><td>0</td><td>0</td><td>0</td><td>0</td><td>0</td><td>NULL</td><td>NULL</td><td>NULL</td><td>NULL</td><td>NULL</td><td>NULL</td><td>NULL</td><td>NULL</td><td>NULL</td><td>NULL</td><td>NULL</td><td>NULL</td><td>NULL</td></tr><tr><td>4</td><td>1</td><td>a167cd0d-dcaf-44dc-84af-c1ca36be1a88</td><td>0</td><td>ROWS</td><td>1</td><td>MSDBData</td><td>/var/opt/mssql/data/MSDBData.mdf</td><td>0</td><td>ONLINE</td><td>1888</td><td>-1</td><td>10</td><td>0</td><td>0</td><td>0</td><td>1</td><td>0</td><td>0</td><td>NULL</td><td>NULL</td><td>NULL</td><td>NULL</td><td>NULL</td><td>NULL</td><td>NULL</td><td>NULL</td><td>NULL</td><td>NULL</td><td>NULL</td><td>NULL</td><td>NULL</td></tr><tr><td>4</td><td>2</td><td>f0c81001-4adf-4dcc-b4d4-956a5451d192</td><td>1</td><td>LOG</td><td>0</td><td>MSDBLog</td><td>/var/opt/mssql/data/MSDBLog.ldf</td><td>0</td><td>ONLINE</td><td>96</td><td>268435456</td><td>10</td><td>0</td><td>0</td><td>0</td><td>1</td><td>0</td><td>0</td><td>NULL</td><td>NULL</td><td>NULL</td><td>NULL</td><td>NULL</td><td>NULL</td><td>NULL</td><td>NULL</td><td>NULL</td><td>NULL</td><td>NULL</td><td>NULL</td><td>NULL</td></tr><tr><td>5</td><td>1</td><td>147896be-d050-4768-9fff-74f1a40c0a0e</td><td>0</td><td>ROWS</td><td>1</td><td>DWDiagnostics</td><td>/var/opt/mssql/data/DWDiagnostics.mdf</td><td>0</td><td>ONLINE</td><td>64000</td><td>256000</td><td>8192</td><td>0</td><td>0</td><td>0</td><td>0</td><td>0</td><td>0</td><td>NULL</td><td>NULL</td><td>NULL</td><td>NULL</td><td>NULL</td><td>NULL</td><td>NULL</td><td>NULL</td><td>NULL</td><td>NULL</td><td>NULL</td><td>NULL</td><td>NULL</td></tr><tr><td>5</td><td>2</td><td>bd0207a2-0775-4d95-9b3e-6fe04fd93fc2</td><td>1</td><td>LOG</td><td>0</td><td>DWDiagnostics_log</td><td>/var/opt/mssql/data/DWDiagnostics_log.ldf</td><td>0</td><td>ONLINE</td><td>9216</td><td>268435456</td><td>8192</td><td>0</td><td>0</td><td>0</td><td>0</td><td>0</td><td>0</td><td>NULL</td><td>NULL</td><td>NULL</td><td>NULL</td><td>NULL</td><td>NULL</td><td>NULL</td><td>NULL</td><td>NULL</td><td>NULL</td><td>NULL</td><td>NULL</td><td>NULL</td></tr><tr><td>6</td><td>1</td><td>6eb1e396-1292-47ed-a169-3f4ffe00654d</td><td>0</td><td>ROWS</td><td>1</td><td>DWConfiguration</td><td>/var/opt/mssql/data/DWConfiguration.mdf</td><td>0</td><td>ONLINE</td><td>1024</td><td>-1</td><td>8192</td><td>0</td><td>0</td><td>0</td><td>0</td><td>0</td><td>0</td><td>NULL</td><td>NULL</td><td>NULL</td><td>NULL</td><td>NULL</td><td>NULL</td><td>NULL</td><td>NULL</td><td>NULL</td><td>NULL</td><td>NULL</td><td>NULL</td><td>NULL</td></tr><tr><td>6</td><td>2</td><td>071aee40-0a1e-4fb4-a33e-aba4ce446ee3</td><td>1</td><td>LOG</td><td>0</td><td>DWConfiguration_log</td><td>/var/opt/mssql/data/DWConfiguration_log.ldf</td><td>0</td><td>ONLINE</td><td>1024</td><td>268435456</td><td>8192</td><td>0</td><td>0</td><td>0</td><td>0</td><td>0</td><td>0</td><td>NULL</td><td>NULL</td><td>NULL</td><td>NULL</td><td>NULL</td><td>NULL</td><td>NULL</td><td>NULL</td><td>NULL</td><td>NULL</td><td>NULL</td><td>NULL</td><td>NULL</td></tr><tr><td>7</td><td>1</td><td>f2215934-610b-4030-b873-2e1ecd9e2df7</td><td>0</td><td>ROWS</td><td>1</td><td>DWQueue</td><td>/var/opt/mssql/data/DWQueue.mdf</td><td>0</td><td>ONLINE</td><td>1024</td><td>-1</td><td>8192</td><td>0</td><td>0</td><td>0</td><td>0</td><td>0</td><td>0</td><td>NULL</td><td>NULL</td><td>NULL</td><td>NULL</td><td>NULL</td><td>NULL</td><td>NULL</td><td>NULL</td><td>NULL</td><td>NULL</td><td>NULL</td><td>NULL</td><td>NULL</td></tr><tr><td>7</td><td>2</td><td>88065bbf-87e5-4efc-ab03-a50c314788ab</td><td>1</td><td>LOG</td><td>0</td><td>DWQueue_log</td><td>/var/opt/mssql/data/DWQueue_log.ldf</td><td>0</td><td>ONLINE</td><td>1024</td><td>268435456</td><td>8192</td><td>0</td><td>0</td><td>0</td><td>0</td><td>0</td><td>0</td><td>NULL</td><td>NULL</td><td>NULL</td><td>NULL</td><td>NULL</td><td>NULL</td><td>NULL</td><td>NULL</td><td>NULL</td><td>NULL</td><td>NULL</td><td>NULL</td><td>NULL</td></tr><tr><td>8</td><td>1</td><td>bb4cd557-9534-4316-bb45-76a090a5d169</td><td>0</td><td>ROWS</td><td>1</td><td>tpcxbb_1gb</td><td>/var/opt/mssql/data/tpcxbb_1gb.mdf</td><td>0</td><td>ONLINE</td><td>44752</td><td>-1</td><td>8192</td><td>0</td><td>0</td><td>0</td><td>0</td><td>0</td><td>0</td><td>NULL</td><td>NULL</td><td>NULL</td><td>NULL</td><td>70000000148300058</td><td>f2659216-ec16-4f32-80e8-bcd5f128e851</td><td>2018-10-23 17:17:37.887</td><td>NULL</td><td>NULL</td><td>NULL</td><td>NULL</td><td>NULL</td><td>NULL</td></tr><tr><td>8</td><td>2</td><td>4404be77-fa52-4619-b860-ef5d31ae056f</td><td>1</td><td>LOG</td><td>0</td><td>tpcxbb_1gb_log</td><td>/var/opt/mssql/data/tpcxbb_1gb.ldf</td><td>0</td><td>ONLINE</td><td>1024</td><td>268435456</td><td>8192</td><td>0</td><td>0</td><td>0</td><td>0</td><td>0</td><td>0</td><td>NULL</td><td>NULL</td><td>NULL</td><td>NULL</td><td>NULL</td><td>NULL</td><td>NULL</td><td>NULL</td><td>NULL</td><td>NULL</td><td>NULL</td><td>NULL</td><td>NULL</td></tr><tr><td>32761</td><td>1</td><td>a167cd0d-dcaf-44dc-84af-c1ca36be1a88</td><td>0</td><td>ROWS</td><td>1</td><td>MSDBData</td><td>/var/opt/mssql/data/model_msdbdata.mdf</td><td>0</td><td>ONLINE</td><td>1888</td><td>-1</td><td>10</td><td>0</td><td>0</td><td>0</td><td>1</td><td>0</td><td>0</td><td>NULL</td><td>NULL</td><td>NULL</td><td>NULL</td><td>NULL</td><td>NULL</td><td>NULL</td><td>NULL</td><td>NULL</td><td>NULL</td><td>NULL</td><td>NULL</td><td>NULL</td></tr><tr><td>32761</td><td>2</td><td>f0c81001-4adf-4dcc-b4d4-956a5451d192</td><td>1</td><td>LOG</td><td>0</td><td>MSDBLog</td><td>/var/opt/mssql/data/model_msdblog.ldf</td><td>0</td><td>ONLINE</td><td>96</td><td>268435456</td><td>10</td><td>0</td><td>0</td><td>0</td><td>1</td><td>0</td><td>0</td><td>NULL</td><td>NULL</td><td>NULL</td><td>NULL</td><td>NULL</td><td>NULL</td><td>NULL</td><td>NULL</td><td>NULL</td><td>NULL</td><td>NULL</td><td>NULL</td><td>NULL</td></tr><tr><td>32762</td><td>1</td><td>2ff1aca6-721f-4fc6-aacd-42a2679021cb</td><td>0</td><td>ROWS</td><td>1</td><td>replicatedmaster</td><td>/var/opt/mssql/data/model_replicatedmaster.mdf</td><td>0</td><td>ONLINE</td><td>568</td><td>-1</td><td>10</td><td>0</td><td>0</td><td>0</td><td>1</td><td>0</td><td>0</td><td>NULL</td><td>NULL</td><td>NULL</td><td>NULL</td><td>NULL</td><td>NULL</td><td>NULL</td><td>NULL</td><td>NULL</td><td>NULL</td><td>NULL</td><td>NULL</td><td>NULL</td></tr><tr><td>32762</td><td>2</td><td>fe42d4f2-6193-4c5d-b52a-44f0efec135b</td><td>1</td><td>LOG</td><td>0</td><td>replicatedmasterlog</td><td>/var/opt/mssql/data/model_replicatedmaster.ldf</td><td>0</td><td>ONLINE</td><td>288</td><td>268435456</td><td>10</td><td>0</td><td>0</td><td>0</td><td>1</td><td>0</td><td>0</td><td>NULL</td><td>NULL</td><td>NULL</td><td>NULL</td><td>NULL</td><td>NULL</td><td>NULL</td><td>NULL</td><td>NULL</td><td>NULL</td><td>NULL</td><td>NULL</td><td>NULL</td></tr></table>"
                    },
                    "metadata": {}
                }
            ],
            "execution_count": 1
        },
        {
            "cell_type": "markdown",
            "source": [
                "## **Ingest data into the SQL Server Databases**\r\n",
                "\r\n",
                "Before you start working with data, you need to briloadng it in to the system. \r\n",
                "\r\n",
                "You have several options to do that, from the `bcp` utility to SQL Server Integration Services, the Azure Data Factory and more. \r\n",
                "\r\n",
                "For the structured data, you'll use the SQL Server `RESTORE` command to bring in two databases from the location we specified earlier with the `kubectl` command.\r\n",
                "\r\n",
                "The Code below shows all of that: "
            ],
            "metadata": {
                "azdata_cell_guid": "0af26209-79fc-45ba-9c65-fd5bca373823"
            }
        },
        {
            "cell_type": "code",
            "source": [
                "/* Add the Customer Databases to the cluster */\r\n",
                "USE [master]\r\n",
                "RESTORE DATABASE [analysis] FROM  DISK = N'/var/opt/mssql/data/analysis.bak' \r\n",
                "WITH  FILE = 1\r\n",
                ",  MOVE N'tpcxbb_1gb' TO N'/var/opt/mssql/data/analysis.mdf'\r\n",
                ",  MOVE N'tpcxbb_1gb_log' TO N'/var/opt/mssql/data/analysis.ldf'\r\n",
                ",  NOUNLOAD\r\n",
                ",  REPLACE\r\n",
                ",  STATS = 5\r\n",
                "GO\r\n",
                "\r\n",
                "USE [master]\r\n",
                "RESTORE DATABASE [sales] FROM  DISK = N'/var/opt/mssql/data/sales.bak' \r\n",
                "WITH  FILE = 1\r\n",
                ",  MOVE N'tpcxbb_1gb' TO N'/var/opt/mssql/data/sales.mdf'\r\n",
                ",  MOVE N'tpcxbb_1gb_log' TO N'/var/opt/mssql/data/sales.ldf'\r\n",
                ",  NOUNLOAD\r\n",
                ",  REPLACE\r\n",
                ",  STATS = 5\r\n",
                "GO\r\n",
                "\r\n",
                "USE [master]\r\n",
                "RESTORE DATABASE [WideWorldImporters] FROM  DISK = N'/var/opt/mssql/data/WWI.bak' WITH  FILE = 1\r\n",
                ",  MOVE N'WWI_Primary' TO N'/var/opt/mssql/data/WideWorldImporters.mdf'\r\n",
                ",  MOVE N'WWI_UserData' TO N'/var/opt/mssql/data/WideWorldImporters_UserData.ndf'\r\n",
                ",  MOVE N'WWI_Log' TO N'/var/opt/mssql/data/WideWorldImporters.ldf'\r\n",
                ",  MOVE N'WWI_InMemory_Data_1' TO N'/var/opt/mssql/data/WideWorldImporters_InMemory_Data_1'\r\n",
                ",  NOUNLOAD\r\n",
                ",  REPLACE\r\n",
                ",  STATS = 5\r\n",
                "GO\r\n",
                "\r\n",
                "USE [master]\r\n",
                "RESTORE DATABASE [AdventureWorks] FROM  DISK = N'/var/opt/mssql/data/AdventureWorks.bak' \r\n",
                "WITH  FILE = 1\r\n",
                ",  MOVE N'AdventureWorks2017' TO N'/var/opt/mssql/data/AdventureWorks2017.mdf'\r\n",
                ",  MOVE N'AdventureWorks2017_log' TO N'/var/opt/mssql/data/AdventureWorks2017_log.ldf'\r\n",
                ",  NOUNLOAD\r\n",
                ",  REPLACE\r\n",
                ",  STATS = 5\r\n",
                "GO\r\n",
                "\r\n",
                "USE [master]\r\n",
                "RESTORE DATABASE [AdventureWorksDW] FROM  DISK = N'/var/opt/mssql/data/AdventureWorksDW.bak' \r\n",
                "WITH  FILE = 1,  MOVE N'AdventureWorksDW2017' TO N'/var/opt/mssql/data/AdventureWorksDW.mdf'\r\n",
                ",  MOVE N'AdventureWorksDW2017_log' TO N'/var/opt/mssql/data/AdventureWorksDW_log.ldf'\r\n",
                ",  NOUNLOAD\r\n",
                ",  REPLACE\r\n",
                ",  STATS = 5\r\n",
                "GO\r\n",
                "\r\n",
                "USE [master]\r\n",
                "RESTORE DATABASE [NYC] FROM  DISK = N'/var/opt/mssql/data/NYC.bak' \r\n",
                "WITH  FILE = 1\r\n",
                ",  MOVE N'NYCTaxi_Sample' TO N'/var/opt/mssql/data/NYC.mdf'\r\n",
                ",  MOVE N'NYCTaxi_Sample_log' TO N'/var/opt/mssql/data/NYC_0.ldf'\r\n",
                ",  NOUNLOAD\r\n",
                ",  REPLACE\r\n",
                ",  STATS = 5\r\n",
                "GO\r\n",
                ""
            ],
            "metadata": {
                "azdata_cell_guid": "2f79c85c-9896-4522-836e-016f94939d09",
                "tags": []
            },
            "outputs": [
                {
                    "output_type": "display_data",
                    "data": {
                        "text/html": "5 percent processed."
                    },
                    "metadata": {}
                },
                {
                    "output_type": "display_data",
                    "data": {
                        "text/html": "10 percent processed."
                    },
                    "metadata": {}
                },
                {
                    "output_type": "display_data",
                    "data": {
                        "text/html": "15 percent processed."
                    },
                    "metadata": {}
                },
                {
                    "output_type": "display_data",
                    "data": {
                        "text/html": "20 percent processed."
                    },
                    "metadata": {}
                },
                {
                    "output_type": "display_data",
                    "data": {
                        "text/html": "25 percent processed."
                    },
                    "metadata": {}
                },
                {
                    "output_type": "display_data",
                    "data": {
                        "text/html": "30 percent processed."
                    },
                    "metadata": {}
                },
                {
                    "output_type": "display_data",
                    "data": {
                        "text/html": "35 percent processed."
                    },
                    "metadata": {}
                },
                {
                    "output_type": "display_data",
                    "data": {
                        "text/html": "40 percent processed."
                    },
                    "metadata": {}
                },
                {
                    "output_type": "display_data",
                    "data": {
                        "text/html": "45 percent processed."
                    },
                    "metadata": {}
                },
                {
                    "output_type": "display_data",
                    "data": {
                        "text/html": "50 percent processed."
                    },
                    "metadata": {}
                },
                {
                    "output_type": "display_data",
                    "data": {
                        "text/html": "55 percent processed."
                    },
                    "metadata": {}
                },
                {
                    "output_type": "display_data",
                    "data": {
                        "text/html": "60 percent processed."
                    },
                    "metadata": {}
                },
                {
                    "output_type": "display_data",
                    "data": {
                        "text/html": "65 percent processed."
                    },
                    "metadata": {}
                },
                {
                    "output_type": "display_data",
                    "data": {
                        "text/html": "70 percent processed."
                    },
                    "metadata": {}
                },
                {
                    "output_type": "display_data",
                    "data": {
                        "text/html": "75 percent processed."
                    },
                    "metadata": {}
                },
                {
                    "output_type": "display_data",
                    "data": {
                        "text/html": "80 percent processed."
                    },
                    "metadata": {}
                },
                {
                    "output_type": "display_data",
                    "data": {
                        "text/html": "85 percent processed."
                    },
                    "metadata": {}
                },
                {
                    "output_type": "display_data",
                    "data": {
                        "text/html": "90 percent processed."
                    },
                    "metadata": {}
                },
                {
                    "output_type": "display_data",
                    "data": {
                        "text/html": "95 percent processed."
                    },
                    "metadata": {}
                },
                {
                    "output_type": "display_data",
                    "data": {
                        "text/html": "100 percent processed."
                    },
                    "metadata": {}
                },
                {
                    "output_type": "display_data",
                    "data": {
                        "text/html": "Processed 36584 pages for database 'analysis', file 'tpcxbb_1gb' on file 1."
                    },
                    "metadata": {}
                },
                {
                    "output_type": "display_data",
                    "data": {
                        "text/html": "Processed 2 pages for database 'analysis', file 'tpcxbb_1gb_log' on file 1."
                    },
                    "metadata": {}
                },
                {
                    "output_type": "display_data",
                    "data": {
                        "text/html": "Converting database 'analysis' from version 852 to the current version 904."
                    },
                    "metadata": {}
                },
                {
                    "output_type": "display_data",
                    "data": {
                        "text/html": "Database 'analysis' running the upgrade step from version 852 to version 853."
                    },
                    "metadata": {}
                },
                {
                    "output_type": "display_data",
                    "data": {
                        "text/html": "Database 'analysis' running the upgrade step from version 853 to version 854."
                    },
                    "metadata": {}
                },
                {
                    "output_type": "display_data",
                    "data": {
                        "text/html": "Database 'analysis' running the upgrade step from version 854 to version 855."
                    },
                    "metadata": {}
                },
                {
                    "output_type": "display_data",
                    "data": {
                        "text/html": "Database 'analysis' running the upgrade step from version 855 to version 856."
                    },
                    "metadata": {}
                },
                {
                    "output_type": "display_data",
                    "data": {
                        "text/html": "Database 'analysis' running the upgrade step from version 856 to version 857."
                    },
                    "metadata": {}
                },
                {
                    "output_type": "display_data",
                    "data": {
                        "text/html": "Database 'analysis' running the upgrade step from version 857 to version 858."
                    },
                    "metadata": {}
                },
                {
                    "output_type": "display_data",
                    "data": {
                        "text/html": "Database 'analysis' running the upgrade step from version 858 to version 859."
                    },
                    "metadata": {}
                },
                {
                    "output_type": "display_data",
                    "data": {
                        "text/html": "Database 'analysis' running the upgrade step from version 859 to version 860."
                    },
                    "metadata": {}
                },
                {
                    "output_type": "display_data",
                    "data": {
                        "text/html": "Database 'analysis' running the upgrade step from version 860 to version 861."
                    },
                    "metadata": {}
                },
                {
                    "output_type": "display_data",
                    "data": {
                        "text/html": "Database 'analysis' running the upgrade step from version 861 to version 862."
                    },
                    "metadata": {}
                },
                {
                    "output_type": "display_data",
                    "data": {
                        "text/html": "Database 'analysis' running the upgrade step from version 862 to version 863."
                    },
                    "metadata": {}
                },
                {
                    "output_type": "display_data",
                    "data": {
                        "text/html": "Database 'analysis' running the upgrade step from version 863 to version 864."
                    },
                    "metadata": {}
                },
                {
                    "output_type": "display_data",
                    "data": {
                        "text/html": "Database 'analysis' running the upgrade step from version 864 to version 865."
                    },
                    "metadata": {}
                },
                {
                    "output_type": "display_data",
                    "data": {
                        "text/html": "Database 'analysis' running the upgrade step from version 865 to version 866."
                    },
                    "metadata": {}
                },
                {
                    "output_type": "display_data",
                    "data": {
                        "text/html": "Database 'analysis' running the upgrade step from version 866 to version 867."
                    },
                    "metadata": {}
                },
                {
                    "output_type": "display_data",
                    "data": {
                        "text/html": "Database 'analysis' running the upgrade step from version 867 to version 868."
                    },
                    "metadata": {}
                },
                {
                    "output_type": "display_data",
                    "data": {
                        "text/html": "Database 'analysis' running the upgrade step from version 868 to version 869."
                    },
                    "metadata": {}
                },
                {
                    "output_type": "display_data",
                    "data": {
                        "text/html": "Database 'analysis' running the upgrade step from version 869 to version 875."
                    },
                    "metadata": {}
                },
                {
                    "output_type": "display_data",
                    "data": {
                        "text/html": "Database 'analysis' running the upgrade step from version 875 to version 876."
                    },
                    "metadata": {}
                },
                {
                    "output_type": "display_data",
                    "data": {
                        "text/html": "Database 'analysis' running the upgrade step from version 876 to version 877."
                    },
                    "metadata": {}
                },
                {
                    "output_type": "display_data",
                    "data": {
                        "text/html": "Database 'analysis' running the upgrade step from version 877 to version 878."
                    },
                    "metadata": {}
                },
                {
                    "output_type": "display_data",
                    "data": {
                        "text/html": "Database 'analysis' running the upgrade step from version 878 to version 879."
                    },
                    "metadata": {}
                },
                {
                    "output_type": "display_data",
                    "data": {
                        "text/html": "Database 'analysis' running the upgrade step from version 879 to version 880."
                    },
                    "metadata": {}
                },
                {
                    "output_type": "display_data",
                    "data": {
                        "text/html": "Database 'analysis' running the upgrade step from version 880 to version 881."
                    },
                    "metadata": {}
                },
                {
                    "output_type": "display_data",
                    "data": {
                        "text/html": "Database 'analysis' running the upgrade step from version 881 to version 882."
                    },
                    "metadata": {}
                },
                {
                    "output_type": "display_data",
                    "data": {
                        "text/html": "Database 'analysis' running the upgrade step from version 882 to version 883."
                    },
                    "metadata": {}
                },
                {
                    "output_type": "display_data",
                    "data": {
                        "text/html": "Database 'analysis' running the upgrade step from version 883 to version 884."
                    },
                    "metadata": {}
                },
                {
                    "output_type": "display_data",
                    "data": {
                        "text/html": "Database 'analysis' running the upgrade step from version 884 to version 885."
                    },
                    "metadata": {}
                },
                {
                    "output_type": "display_data",
                    "data": {
                        "text/html": "Database 'analysis' running the upgrade step from version 885 to version 886."
                    },
                    "metadata": {}
                },
                {
                    "output_type": "display_data",
                    "data": {
                        "text/html": "Database 'analysis' running the upgrade step from version 886 to version 887."
                    },
                    "metadata": {}
                },
                {
                    "output_type": "display_data",
                    "data": {
                        "text/html": "Database 'analysis' running the upgrade step from version 887 to version 888."
                    },
                    "metadata": {}
                },
                {
                    "output_type": "display_data",
                    "data": {
                        "text/html": "Database 'analysis' running the upgrade step from version 888 to version 889."
                    },
                    "metadata": {}
                },
                {
                    "output_type": "display_data",
                    "data": {
                        "text/html": "Database 'analysis' running the upgrade step from version 889 to version 890."
                    },
                    "metadata": {}
                },
                {
                    "output_type": "display_data",
                    "data": {
                        "text/html": "Database 'analysis' running the upgrade step from version 890 to version 891."
                    },
                    "metadata": {}
                },
                {
                    "output_type": "display_data",
                    "data": {
                        "text/html": "Database 'analysis' running the upgrade step from version 891 to version 892."
                    },
                    "metadata": {}
                },
                {
                    "output_type": "display_data",
                    "data": {
                        "text/html": "Database 'analysis' running the upgrade step from version 892 to version 893."
                    },
                    "metadata": {}
                },
                {
                    "output_type": "display_data",
                    "data": {
                        "text/html": "Database 'analysis' running the upgrade step from version 893 to version 894."
                    },
                    "metadata": {}
                },
                {
                    "output_type": "display_data",
                    "data": {
                        "text/html": "Database 'analysis' running the upgrade step from version 894 to version 895."
                    },
                    "metadata": {}
                },
                {
                    "output_type": "display_data",
                    "data": {
                        "text/html": "Database 'analysis' running the upgrade step from version 895 to version 896."
                    },
                    "metadata": {}
                },
                {
                    "output_type": "display_data",
                    "data": {
                        "text/html": "Database 'analysis' running the upgrade step from version 896 to version 897."
                    },
                    "metadata": {}
                },
                {
                    "output_type": "display_data",
                    "data": {
                        "text/html": "Database 'analysis' running the upgrade step from version 897 to version 898."
                    },
                    "metadata": {}
                },
                {
                    "output_type": "display_data",
                    "data": {
                        "text/html": "Database 'analysis' running the upgrade step from version 898 to version 899."
                    },
                    "metadata": {}
                },
                {
                    "output_type": "display_data",
                    "data": {
                        "text/html": "Database 'analysis' running the upgrade step from version 899 to version 900."
                    },
                    "metadata": {}
                },
                {
                    "output_type": "display_data",
                    "data": {
                        "text/html": "Database 'analysis' running the upgrade step from version 900 to version 901."
                    },
                    "metadata": {}
                },
                {
                    "output_type": "display_data",
                    "data": {
                        "text/html": "Database 'analysis' running the upgrade step from version 901 to version 902."
                    },
                    "metadata": {}
                },
                {
                    "output_type": "display_data",
                    "data": {
                        "text/html": "Database 'analysis' running the upgrade step from version 902 to version 903."
                    },
                    "metadata": {}
                },
                {
                    "output_type": "display_data",
                    "data": {
                        "text/html": "Database 'analysis' running the upgrade step from version 903 to version 904."
                    },
                    "metadata": {}
                },
                {
                    "output_type": "display_data",
                    "data": {
                        "text/html": "RESTORE DATABASE successfully processed 36586 pages in 2.967 seconds (96.334 MB/sec)."
                    },
                    "metadata": {}
                },
                {
                    "output_type": "display_data",
                    "data": {
                        "text/html": "5 percent processed."
                    },
                    "metadata": {}
                },
                {
                    "output_type": "display_data",
                    "data": {
                        "text/html": "10 percent processed."
                    },
                    "metadata": {}
                },
                {
                    "output_type": "display_data",
                    "data": {
                        "text/html": "15 percent processed."
                    },
                    "metadata": {}
                },
                {
                    "output_type": "display_data",
                    "data": {
                        "text/html": "20 percent processed."
                    },
                    "metadata": {}
                },
                {
                    "output_type": "display_data",
                    "data": {
                        "text/html": "25 percent processed."
                    },
                    "metadata": {}
                },
                {
                    "output_type": "display_data",
                    "data": {
                        "text/html": "30 percent processed."
                    },
                    "metadata": {}
                },
                {
                    "output_type": "display_data",
                    "data": {
                        "text/html": "35 percent processed."
                    },
                    "metadata": {}
                },
                {
                    "output_type": "display_data",
                    "data": {
                        "text/html": "40 percent processed."
                    },
                    "metadata": {}
                },
                {
                    "output_type": "display_data",
                    "data": {
                        "text/html": "45 percent processed."
                    },
                    "metadata": {}
                },
                {
                    "output_type": "display_data",
                    "data": {
                        "text/html": "50 percent processed."
                    },
                    "metadata": {}
                },
                {
                    "output_type": "display_data",
                    "data": {
                        "text/html": "55 percent processed."
                    },
                    "metadata": {}
                },
                {
                    "output_type": "display_data",
                    "data": {
                        "text/html": "60 percent processed."
                    },
                    "metadata": {}
                },
                {
                    "output_type": "display_data",
                    "data": {
                        "text/html": "65 percent processed."
                    },
                    "metadata": {}
                },
                {
                    "output_type": "display_data",
                    "data": {
                        "text/html": "70 percent processed."
                    },
                    "metadata": {}
                },
                {
                    "output_type": "display_data",
                    "data": {
                        "text/html": "75 percent processed."
                    },
                    "metadata": {}
                },
                {
                    "output_type": "display_data",
                    "data": {
                        "text/html": "80 percent processed."
                    },
                    "metadata": {}
                },
                {
                    "output_type": "display_data",
                    "data": {
                        "text/html": "85 percent processed."
                    },
                    "metadata": {}
                },
                {
                    "output_type": "display_data",
                    "data": {
                        "text/html": "90 percent processed."
                    },
                    "metadata": {}
                },
                {
                    "output_type": "display_data",
                    "data": {
                        "text/html": "95 percent processed."
                    },
                    "metadata": {}
                },
                {
                    "output_type": "display_data",
                    "data": {
                        "text/html": "100 percent processed."
                    },
                    "metadata": {}
                },
                {
                    "output_type": "display_data",
                    "data": {
                        "text/html": "Processed 36584 pages for database 'sales', file 'tpcxbb_1gb' on file 1."
                    },
                    "metadata": {}
                },
                {
                    "output_type": "display_data",
                    "data": {
                        "text/html": "Processed 2 pages for database 'sales', file 'tpcxbb_1gb_log' on file 1."
                    },
                    "metadata": {}
                },
                {
                    "output_type": "display_data",
                    "data": {
                        "text/html": "Converting database 'sales' from version 852 to the current version 904."
                    },
                    "metadata": {}
                },
                {
                    "output_type": "display_data",
                    "data": {
                        "text/html": "Database 'sales' running the upgrade step from version 852 to version 853."
                    },
                    "metadata": {}
                },
                {
                    "output_type": "display_data",
                    "data": {
                        "text/html": "Database 'sales' running the upgrade step from version 853 to version 854."
                    },
                    "metadata": {}
                },
                {
                    "output_type": "display_data",
                    "data": {
                        "text/html": "Database 'sales' running the upgrade step from version 854 to version 855."
                    },
                    "metadata": {}
                },
                {
                    "output_type": "display_data",
                    "data": {
                        "text/html": "Database 'sales' running the upgrade step from version 855 to version 856."
                    },
                    "metadata": {}
                },
                {
                    "output_type": "display_data",
                    "data": {
                        "text/html": "Database 'sales' running the upgrade step from version 856 to version 857."
                    },
                    "metadata": {}
                },
                {
                    "output_type": "display_data",
                    "data": {
                        "text/html": "Database 'sales' running the upgrade step from version 857 to version 858."
                    },
                    "metadata": {}
                },
                {
                    "output_type": "display_data",
                    "data": {
                        "text/html": "Database 'sales' running the upgrade step from version 858 to version 859."
                    },
                    "metadata": {}
                },
                {
                    "output_type": "display_data",
                    "data": {
                        "text/html": "Database 'sales' running the upgrade step from version 859 to version 860."
                    },
                    "metadata": {}
                },
                {
                    "output_type": "display_data",
                    "data": {
                        "text/html": "Database 'sales' running the upgrade step from version 860 to version 861."
                    },
                    "metadata": {}
                },
                {
                    "output_type": "display_data",
                    "data": {
                        "text/html": "Database 'sales' running the upgrade step from version 861 to version 862."
                    },
                    "metadata": {}
                },
                {
                    "output_type": "display_data",
                    "data": {
                        "text/html": "Database 'sales' running the upgrade step from version 862 to version 863."
                    },
                    "metadata": {}
                },
                {
                    "output_type": "display_data",
                    "data": {
                        "text/html": "Database 'sales' running the upgrade step from version 863 to version 864."
                    },
                    "metadata": {}
                },
                {
                    "output_type": "display_data",
                    "data": {
                        "text/html": "Database 'sales' running the upgrade step from version 864 to version 865."
                    },
                    "metadata": {}
                },
                {
                    "output_type": "display_data",
                    "data": {
                        "text/html": "Database 'sales' running the upgrade step from version 865 to version 866."
                    },
                    "metadata": {}
                },
                {
                    "output_type": "display_data",
                    "data": {
                        "text/html": "Database 'sales' running the upgrade step from version 866 to version 867."
                    },
                    "metadata": {}
                },
                {
                    "output_type": "display_data",
                    "data": {
                        "text/html": "Database 'sales' running the upgrade step from version 867 to version 868."
                    },
                    "metadata": {}
                },
                {
                    "output_type": "display_data",
                    "data": {
                        "text/html": "Database 'sales' running the upgrade step from version 868 to version 869."
                    },
                    "metadata": {}
                },
                {
                    "output_type": "display_data",
                    "data": {
                        "text/html": "Database 'sales' running the upgrade step from version 869 to version 875."
                    },
                    "metadata": {}
                },
                {
                    "output_type": "display_data",
                    "data": {
                        "text/html": "Database 'sales' running the upgrade step from version 875 to version 876."
                    },
                    "metadata": {}
                },
                {
                    "output_type": "display_data",
                    "data": {
                        "text/html": "Database 'sales' running the upgrade step from version 876 to version 877."
                    },
                    "metadata": {}
                },
                {
                    "output_type": "display_data",
                    "data": {
                        "text/html": "Database 'sales' running the upgrade step from version 877 to version 878."
                    },
                    "metadata": {}
                },
                {
                    "output_type": "display_data",
                    "data": {
                        "text/html": "Database 'sales' running the upgrade step from version 878 to version 879."
                    },
                    "metadata": {}
                },
                {
                    "output_type": "display_data",
                    "data": {
                        "text/html": "Database 'sales' running the upgrade step from version 879 to version 880."
                    },
                    "metadata": {}
                },
                {
                    "output_type": "display_data",
                    "data": {
                        "text/html": "Database 'sales' running the upgrade step from version 880 to version 881."
                    },
                    "metadata": {}
                },
                {
                    "output_type": "display_data",
                    "data": {
                        "text/html": "Database 'sales' running the upgrade step from version 881 to version 882."
                    },
                    "metadata": {}
                },
                {
                    "output_type": "display_data",
                    "data": {
                        "text/html": "Database 'sales' running the upgrade step from version 882 to version 883."
                    },
                    "metadata": {}
                },
                {
                    "output_type": "display_data",
                    "data": {
                        "text/html": "Database 'sales' running the upgrade step from version 883 to version 884."
                    },
                    "metadata": {}
                },
                {
                    "output_type": "display_data",
                    "data": {
                        "text/html": "Database 'sales' running the upgrade step from version 884 to version 885."
                    },
                    "metadata": {}
                },
                {
                    "output_type": "display_data",
                    "data": {
                        "text/html": "Database 'sales' running the upgrade step from version 885 to version 886."
                    },
                    "metadata": {}
                },
                {
                    "output_type": "display_data",
                    "data": {
                        "text/html": "Database 'sales' running the upgrade step from version 886 to version 887."
                    },
                    "metadata": {}
                },
                {
                    "output_type": "display_data",
                    "data": {
                        "text/html": "Database 'sales' running the upgrade step from version 887 to version 888."
                    },
                    "metadata": {}
                },
                {
                    "output_type": "display_data",
                    "data": {
                        "text/html": "Database 'sales' running the upgrade step from version 888 to version 889."
                    },
                    "metadata": {}
                },
                {
                    "output_type": "display_data",
                    "data": {
                        "text/html": "Database 'sales' running the upgrade step from version 889 to version 890."
                    },
                    "metadata": {}
                },
                {
                    "output_type": "display_data",
                    "data": {
                        "text/html": "Database 'sales' running the upgrade step from version 890 to version 891."
                    },
                    "metadata": {}
                },
                {
                    "output_type": "display_data",
                    "data": {
                        "text/html": "Database 'sales' running the upgrade step from version 891 to version 892."
                    },
                    "metadata": {}
                },
                {
                    "output_type": "display_data",
                    "data": {
                        "text/html": "Database 'sales' running the upgrade step from version 892 to version 893."
                    },
                    "metadata": {}
                },
                {
                    "output_type": "display_data",
                    "data": {
                        "text/html": "Database 'sales' running the upgrade step from version 893 to version 894."
                    },
                    "metadata": {}
                },
                {
                    "output_type": "display_data",
                    "data": {
                        "text/html": "Database 'sales' running the upgrade step from version 894 to version 895."
                    },
                    "metadata": {}
                },
                {
                    "output_type": "display_data",
                    "data": {
                        "text/html": "Database 'sales' running the upgrade step from version 895 to version 896."
                    },
                    "metadata": {}
                },
                {
                    "output_type": "display_data",
                    "data": {
                        "text/html": "Database 'sales' running the upgrade step from version 896 to version 897."
                    },
                    "metadata": {}
                },
                {
                    "output_type": "display_data",
                    "data": {
                        "text/html": "Database 'sales' running the upgrade step from version 897 to version 898."
                    },
                    "metadata": {}
                },
                {
                    "output_type": "display_data",
                    "data": {
                        "text/html": "Database 'sales' running the upgrade step from version 898 to version 899."
                    },
                    "metadata": {}
                },
                {
                    "output_type": "display_data",
                    "data": {
                        "text/html": "Database 'sales' running the upgrade step from version 899 to version 900."
                    },
                    "metadata": {}
                },
                {
                    "output_type": "display_data",
                    "data": {
                        "text/html": "Database 'sales' running the upgrade step from version 900 to version 901."
                    },
                    "metadata": {}
                },
                {
                    "output_type": "display_data",
                    "data": {
                        "text/html": "Database 'sales' running the upgrade step from version 901 to version 902."
                    },
                    "metadata": {}
                },
                {
                    "output_type": "display_data",
                    "data": {
                        "text/html": "Database 'sales' running the upgrade step from version 902 to version 903."
                    },
                    "metadata": {}
                },
                {
                    "output_type": "display_data",
                    "data": {
                        "text/html": "Database 'sales' running the upgrade step from version 903 to version 904."
                    },
                    "metadata": {}
                },
                {
                    "output_type": "display_data",
                    "data": {
                        "text/html": "RESTORE DATABASE successfully processed 36586 pages in 2.984 seconds (95.785 MB/sec)."
                    },
                    "metadata": {}
                },
                {
                    "output_type": "display_data",
                    "data": {
                        "text/html": "5 percent processed."
                    },
                    "metadata": {}
                },
                {
                    "output_type": "display_data",
                    "data": {
                        "text/html": "10 percent processed."
                    },
                    "metadata": {}
                },
                {
                    "output_type": "display_data",
                    "data": {
                        "text/html": "15 percent processed."
                    },
                    "metadata": {}
                },
                {
                    "output_type": "display_data",
                    "data": {
                        "text/html": "20 percent processed."
                    },
                    "metadata": {}
                },
                {
                    "output_type": "display_data",
                    "data": {
                        "text/html": "25 percent processed."
                    },
                    "metadata": {}
                },
                {
                    "output_type": "display_data",
                    "data": {
                        "text/html": "30 percent processed."
                    },
                    "metadata": {}
                },
                {
                    "output_type": "display_data",
                    "data": {
                        "text/html": "35 percent processed."
                    },
                    "metadata": {}
                },
                {
                    "output_type": "display_data",
                    "data": {
                        "text/html": "40 percent processed."
                    },
                    "metadata": {}
                },
                {
                    "output_type": "display_data",
                    "data": {
                        "text/html": "45 percent processed."
                    },
                    "metadata": {}
                },
                {
                    "output_type": "display_data",
                    "data": {
                        "text/html": "50 percent processed."
                    },
                    "metadata": {}
                },
                {
                    "output_type": "display_data",
                    "data": {
                        "text/html": "55 percent processed."
                    },
                    "metadata": {}
                },
                {
                    "output_type": "display_data",
                    "data": {
                        "text/html": "60 percent processed."
                    },
                    "metadata": {}
                },
                {
                    "output_type": "display_data",
                    "data": {
                        "text/html": "65 percent processed."
                    },
                    "metadata": {}
                },
                {
                    "output_type": "display_data",
                    "data": {
                        "text/html": "70 percent processed."
                    },
                    "metadata": {}
                },
                {
                    "output_type": "display_data",
                    "data": {
                        "text/html": "Processed 1320 pages for database 'WideWorldImporters', file 'WWI_Primary' on file 1."
                    },
                    "metadata": {}
                },
                {
                    "output_type": "display_data",
                    "data": {
                        "text/html": "Processed 53104 pages for database 'WideWorldImporters', file 'WWI_UserData' on file 1."
                    },
                    "metadata": {}
                },
                {
                    "output_type": "display_data",
                    "data": {
                        "text/html": "Processed 1234 pages for database 'WideWorldImporters', file 'WWI_Log' on file 1."
                    },
                    "metadata": {}
                },
                {
                    "output_type": "display_data",
                    "data": {
                        "text/html": "Processed 3865 pages for database 'WideWorldImporters', file 'WWI_InMemory_Data_1' on file 1."
                    },
                    "metadata": {}
                }
            ],
            "execution_count": 8
        },
        {
            "cell_type": "markdown",
            "source": [
                "## **Query Data**\r\n",
                "\r\n",
                "The SQL Server 2019 big data cluster Master Instance is a SQL Server Instance - and as such has most all of the query facilities and capabilities of Microsoft SQL Server running on Linux.\r\n",
                "\r\n",
                "In these queries you'll explore some customer information, in preparation for combining that information with external sources. You can add cells to this workbook to explore more. "
            ],
            "metadata": {
                "azdata_cell_guid": "7db932ab-1da7-41e4-9db3-aa869a81d59b"
            }
        },
        {
            "cell_type": "code",
            "source": [
                "SELECT * FROM INFORMATION_SCHEMA.tables ORDER BY TABLE_SCHEMA"
            ],
            "metadata": {
                "azdata_cell_guid": "d19b079d-36b6-4203-a69a-c1dc78a092ee"
            },
            "outputs": [
                {
                    "output_type": "display_data",
                    "data": {
                        "text/html": "(51 rows affected)"
                    },
                    "metadata": {}
                },
                {
                    "output_type": "display_data",
                    "data": {
                        "text/html": "Total execution time: 00:00:00.173"
                    },
                    "metadata": {}
                },
                {
                    "output_type": "execute_result",
                    "execution_count": 16,
                    "data": {
                        "application/vnd.dataresource+json": {
                            "schema": {
                                "fields": [
                                    {
                                        "name": "TABLE_CATALOG"
                                    },
                                    {
                                        "name": "TABLE_SCHEMA"
                                    },
                                    {
                                        "name": "TABLE_NAME"
                                    },
                                    {
                                        "name": "TABLE_TYPE"
                                    }
                                ]
                            },
                            "data": [
                                {
                                    "0": "WideWorldImporters",
                                    "1": "Application",
                                    "2": "StateProvinces",
                                    "3": "BASE TABLE"
                                },
                                {
                                    "0": "WideWorldImporters",
                                    "1": "Application",
                                    "2": "StateProvinces_Archive",
                                    "3": "BASE TABLE"
                                },
                                {
                                    "0": "WideWorldImporters",
                                    "1": "Application",
                                    "2": "Cities",
                                    "3": "BASE TABLE"
                                },
                                {
                                    "0": "WideWorldImporters",
                                    "1": "Application",
                                    "2": "Cities_Archive",
                                    "3": "BASE TABLE"
                                },
                                {
                                    "0": "WideWorldImporters",
                                    "1": "Application",
                                    "2": "SystemParameters",
                                    "3": "BASE TABLE"
                                },
                                {
                                    "0": "WideWorldImporters",
                                    "1": "Application",
                                    "2": "People",
                                    "3": "BASE TABLE"
                                },
                                {
                                    "0": "WideWorldImporters",
                                    "1": "Application",
                                    "2": "People_Archive",
                                    "3": "BASE TABLE"
                                },
                                {
                                    "0": "WideWorldImporters",
                                    "1": "Application",
                                    "2": "Countries_Archive",
                                    "3": "BASE TABLE"
                                },
                                {
                                    "0": "WideWorldImporters",
                                    "1": "Application",
                                    "2": "DeliveryMethods",
                                    "3": "BASE TABLE"
                                },
                                {
                                    "0": "WideWorldImporters",
                                    "1": "Application",
                                    "2": "DeliveryMethods_Archive",
                                    "3": "BASE TABLE"
                                },
                                {
                                    "0": "WideWorldImporters",
                                    "1": "Application",
                                    "2": "PaymentMethods",
                                    "3": "BASE TABLE"
                                },
                                {
                                    "0": "WideWorldImporters",
                                    "1": "Application",
                                    "2": "Countries",
                                    "3": "BASE TABLE"
                                },
                                {
                                    "0": "WideWorldImporters",
                                    "1": "Application",
                                    "2": "TransactionTypes_Archive",
                                    "3": "BASE TABLE"
                                },
                                {
                                    "0": "WideWorldImporters",
                                    "1": "Application",
                                    "2": "PaymentMethods_Archive",
                                    "3": "BASE TABLE"
                                },
                                {
                                    "0": "WideWorldImporters",
                                    "1": "Application",
                                    "2": "TransactionTypes",
                                    "3": "BASE TABLE"
                                },
                                {
                                    "0": "WideWorldImporters",
                                    "1": "Purchasing",
                                    "2": "PurchaseOrderLines",
                                    "3": "BASE TABLE"
                                },
                                {
                                    "0": "WideWorldImporters",
                                    "1": "Purchasing",
                                    "2": "SupplierCategories",
                                    "3": "BASE TABLE"
                                },
                                {
                                    "0": "WideWorldImporters",
                                    "1": "Purchasing",
                                    "2": "SupplierCategories_Archive",
                                    "3": "BASE TABLE"
                                },
                                {
                                    "0": "WideWorldImporters",
                                    "1": "Purchasing",
                                    "2": "SupplierTransactions",
                                    "3": "BASE TABLE"
                                },
                                {
                                    "0": "WideWorldImporters",
                                    "1": "Purchasing",
                                    "2": "PurchaseOrders",
                                    "3": "BASE TABLE"
                                },
                                {
                                    "0": "WideWorldImporters",
                                    "1": "Purchasing",
                                    "2": "Suppliers",
                                    "3": "BASE TABLE"
                                },
                                {
                                    "0": "WideWorldImporters",
                                    "1": "Purchasing",
                                    "2": "Suppliers_Archive",
                                    "3": "BASE TABLE"
                                },
                                {
                                    "0": "WideWorldImporters",
                                    "1": "Sales",
                                    "2": "Customers",
                                    "3": "BASE TABLE"
                                },
                                {
                                    "0": "WideWorldImporters",
                                    "1": "Sales",
                                    "2": "Customers_Archive",
                                    "3": "BASE TABLE"
                                },
                                {
                                    "0": "WideWorldImporters",
                                    "1": "Sales",
                                    "2": "InvoiceLines",
                                    "3": "BASE TABLE"
                                },
                                {
                                    "0": "WideWorldImporters",
                                    "1": "Sales",
                                    "2": "CustomerTransactions",
                                    "3": "BASE TABLE"
                                },
                                {
                                    "0": "WideWorldImporters",
                                    "1": "Sales",
                                    "2": "OrderLines",
                                    "3": "BASE TABLE"
                                },
                                {
                                    "0": "WideWorldImporters",
                                    "1": "Sales",
                                    "2": "Orders",
                                    "3": "BASE TABLE"
                                },
                                {
                                    "0": "WideWorldImporters",
                                    "1": "Sales",
                                    "2": "BuyingGroups",
                                    "3": "BASE TABLE"
                                },
                                {
                                    "0": "WideWorldImporters",
                                    "1": "Sales",
                                    "2": "Invoices",
                                    "3": "BASE TABLE"
                                },
                                {
                                    "0": "WideWorldImporters",
                                    "1": "Sales",
                                    "2": "BuyingGroups_Archive",
                                    "3": "BASE TABLE"
                                },
                                {
                                    "0": "WideWorldImporters",
                                    "1": "Sales",
                                    "2": "CustomerCategories",
                                    "3": "BASE TABLE"
                                },
                                {
                                    "0": "WideWorldImporters",
                                    "1": "Sales",
                                    "2": "CustomerCategories_Archive",
                                    "3": "BASE TABLE"
                                },
                                {
                                    "0": "WideWorldImporters",
                                    "1": "Sales",
                                    "2": "SpecialDeals",
                                    "3": "BASE TABLE"
                                },
                                {
                                    "0": "WideWorldImporters",
                                    "1": "Warehouse",
                                    "2": "ColdRoomTemperatures",
                                    "3": "BASE TABLE"
                                },
                                {
                                    "0": "WideWorldImporters",
                                    "1": "Warehouse",
                                    "2": "VehicleTemperatures",
                                    "3": "BASE TABLE"
                                },
                                {
                                    "0": "WideWorldImporters",
                                    "1": "Warehouse",
                                    "2": "ColdRoomTemperatures_Archive",
                                    "3": "BASE TABLE"
                                },
                                {
                                    "0": "WideWorldImporters",
                                    "1": "Warehouse",
                                    "2": "StockItems_Archive",
                                    "3": "BASE TABLE"
                                },
                                {
                                    "0": "WideWorldImporters",
                                    "1": "Warehouse",
                                    "2": "StockItems",
                                    "3": "BASE TABLE"
                                },
                                {
                                    "0": "WideWorldImporters",
                                    "1": "Warehouse",
                                    "2": "StockItemHoldings",
                                    "3": "BASE TABLE"
                                },
                                {
                                    "0": "WideWorldImporters",
                                    "1": "Warehouse",
                                    "2": "PackageTypes",
                                    "3": "BASE TABLE"
                                },
                                {
                                    "0": "WideWorldImporters",
                                    "1": "Warehouse",
                                    "2": "PackageTypes_Archive",
                                    "3": "BASE TABLE"
                                },
                                {
                                    "0": "WideWorldImporters",
                                    "1": "Warehouse",
                                    "2": "StockGroups",
                                    "3": "BASE TABLE"
                                },
                                {
                                    "0": "WideWorldImporters",
                                    "1": "Warehouse",
                                    "2": "StockItemStockGroups",
                                    "3": "BASE TABLE"
                                },
                                {
                                    "0": "WideWorldImporters",
                                    "1": "Warehouse",
                                    "2": "StockGroups_Archive",
                                    "3": "BASE TABLE"
                                },
                                {
                                    "0": "WideWorldImporters",
                                    "1": "Warehouse",
                                    "2": "Colors",
                                    "3": "BASE TABLE"
                                },
                                {
                                    "0": "WideWorldImporters",
                                    "1": "Warehouse",
                                    "2": "Colors_Archive",
                                    "3": "BASE TABLE"
                                },
                                {
                                    "0": "WideWorldImporters",
                                    "1": "Warehouse",
                                    "2": "StockItemTransactions",
                                    "3": "BASE TABLE"
                                },
                                {
                                    "0": "WideWorldImporters",
                                    "1": "Website",
                                    "2": "Customers",
                                    "3": "VIEW"
                                },
                                {
                                    "0": "WideWorldImporters",
                                    "1": "Website",
                                    "2": "VehicleTemperatures",
                                    "3": "VIEW"
                                },
                                {
                                    "0": "WideWorldImporters",
                                    "1": "Website",
                                    "2": "Suppliers",
                                    "3": "VIEW"
                                }
                            ]
                        },
                        "text/html": "<table><tr><th>TABLE_CATALOG</th><th>TABLE_SCHEMA</th><th>TABLE_NAME</th><th>TABLE_TYPE</th></tr><tr><td>WideWorldImporters</td><td>Application</td><td>StateProvinces</td><td>BASE TABLE</td></tr><tr><td>WideWorldImporters</td><td>Application</td><td>StateProvinces_Archive</td><td>BASE TABLE</td></tr><tr><td>WideWorldImporters</td><td>Application</td><td>Cities</td><td>BASE TABLE</td></tr><tr><td>WideWorldImporters</td><td>Application</td><td>Cities_Archive</td><td>BASE TABLE</td></tr><tr><td>WideWorldImporters</td><td>Application</td><td>SystemParameters</td><td>BASE TABLE</td></tr><tr><td>WideWorldImporters</td><td>Application</td><td>People</td><td>BASE TABLE</td></tr><tr><td>WideWorldImporters</td><td>Application</td><td>People_Archive</td><td>BASE TABLE</td></tr><tr><td>WideWorldImporters</td><td>Application</td><td>Countries_Archive</td><td>BASE TABLE</td></tr><tr><td>WideWorldImporters</td><td>Application</td><td>DeliveryMethods</td><td>BASE TABLE</td></tr><tr><td>WideWorldImporters</td><td>Application</td><td>DeliveryMethods_Archive</td><td>BASE TABLE</td></tr><tr><td>WideWorldImporters</td><td>Application</td><td>PaymentMethods</td><td>BASE TABLE</td></tr><tr><td>WideWorldImporters</td><td>Application</td><td>Countries</td><td>BASE TABLE</td></tr><tr><td>WideWorldImporters</td><td>Application</td><td>TransactionTypes_Archive</td><td>BASE TABLE</td></tr><tr><td>WideWorldImporters</td><td>Application</td><td>PaymentMethods_Archive</td><td>BASE TABLE</td></tr><tr><td>WideWorldImporters</td><td>Application</td><td>TransactionTypes</td><td>BASE TABLE</td></tr><tr><td>WideWorldImporters</td><td>Purchasing</td><td>PurchaseOrderLines</td><td>BASE TABLE</td></tr><tr><td>WideWorldImporters</td><td>Purchasing</td><td>SupplierCategories</td><td>BASE TABLE</td></tr><tr><td>WideWorldImporters</td><td>Purchasing</td><td>SupplierCategories_Archive</td><td>BASE TABLE</td></tr><tr><td>WideWorldImporters</td><td>Purchasing</td><td>SupplierTransactions</td><td>BASE TABLE</td></tr><tr><td>WideWorldImporters</td><td>Purchasing</td><td>PurchaseOrders</td><td>BASE TABLE</td></tr><tr><td>WideWorldImporters</td><td>Purchasing</td><td>Suppliers</td><td>BASE TABLE</td></tr><tr><td>WideWorldImporters</td><td>Purchasing</td><td>Suppliers_Archive</td><td>BASE TABLE</td></tr><tr><td>WideWorldImporters</td><td>Sales</td><td>Customers</td><td>BASE TABLE</td></tr><tr><td>WideWorldImporters</td><td>Sales</td><td>Customers_Archive</td><td>BASE TABLE</td></tr><tr><td>WideWorldImporters</td><td>Sales</td><td>InvoiceLines</td><td>BASE TABLE</td></tr><tr><td>WideWorldImporters</td><td>Sales</td><td>CustomerTransactions</td><td>BASE TABLE</td></tr><tr><td>WideWorldImporters</td><td>Sales</td><td>OrderLines</td><td>BASE TABLE</td></tr><tr><td>WideWorldImporters</td><td>Sales</td><td>Orders</td><td>BASE TABLE</td></tr><tr><td>WideWorldImporters</td><td>Sales</td><td>BuyingGroups</td><td>BASE TABLE</td></tr><tr><td>WideWorldImporters</td><td>Sales</td><td>Invoices</td><td>BASE TABLE</td></tr><tr><td>WideWorldImporters</td><td>Sales</td><td>BuyingGroups_Archive</td><td>BASE TABLE</td></tr><tr><td>WideWorldImporters</td><td>Sales</td><td>CustomerCategories</td><td>BASE TABLE</td></tr><tr><td>WideWorldImporters</td><td>Sales</td><td>CustomerCategories_Archive</td><td>BASE TABLE</td></tr><tr><td>WideWorldImporters</td><td>Sales</td><td>SpecialDeals</td><td>BASE TABLE</td></tr><tr><td>WideWorldImporters</td><td>Warehouse</td><td>ColdRoomTemperatures</td><td>BASE TABLE</td></tr><tr><td>WideWorldImporters</td><td>Warehouse</td><td>VehicleTemperatures</td><td>BASE TABLE</td></tr><tr><td>WideWorldImporters</td><td>Warehouse</td><td>ColdRoomTemperatures_Archive</td><td>BASE TABLE</td></tr><tr><td>WideWorldImporters</td><td>Warehouse</td><td>StockItems_Archive</td><td>BASE TABLE</td></tr><tr><td>WideWorldImporters</td><td>Warehouse</td><td>StockItems</td><td>BASE TABLE</td></tr><tr><td>WideWorldImporters</td><td>Warehouse</td><td>StockItemHoldings</td><td>BASE TABLE</td></tr><tr><td>WideWorldImporters</td><td>Warehouse</td><td>PackageTypes</td><td>BASE TABLE</td></tr><tr><td>WideWorldImporters</td><td>Warehouse</td><td>PackageTypes_Archive</td><td>BASE TABLE</td></tr><tr><td>WideWorldImporters</td><td>Warehouse</td><td>StockGroups</td><td>BASE TABLE</td></tr><tr><td>WideWorldImporters</td><td>Warehouse</td><td>StockItemStockGroups</td><td>BASE TABLE</td></tr><tr><td>WideWorldImporters</td><td>Warehouse</td><td>StockGroups_Archive</td><td>BASE TABLE</td></tr><tr><td>WideWorldImporters</td><td>Warehouse</td><td>Colors</td><td>BASE TABLE</td></tr><tr><td>WideWorldImporters</td><td>Warehouse</td><td>Colors_Archive</td><td>BASE TABLE</td></tr><tr><td>WideWorldImporters</td><td>Warehouse</td><td>StockItemTransactions</td><td>BASE TABLE</td></tr><tr><td>WideWorldImporters</td><td>Website</td><td>Customers</td><td>VIEW</td></tr><tr><td>WideWorldImporters</td><td>Website</td><td>VehicleTemperatures</td><td>VIEW</td></tr><tr><td>WideWorldImporters</td><td>Website</td><td>Suppliers</td><td>VIEW</td></tr></table>"
                    },
                    "metadata": {}
                }
            ],
            "execution_count": 16
        },
        {
            "cell_type": "code",
            "source": [
                "/* Get some general information about the data in the WWI OLTP system */\r\n",
                "USE WideWorldImporters;\r\n",
                "GO\r\n",
                "\r\n",
                "/* Show the Populations. \r\n",
                "Where do we have the most people?\r\n",
                " */\r\n",
                "SELECT TOP 10 CityName as 'City Name'\r\n",
                ", StateProvinceName as 'State or Province'\r\n",
                ", sp.LatestRecordedPopulation as 'Population'\r\n",
                ", CountryName\r\n",
                "FROM Application.Cities AS city\r\n",
                "JOIN Application.StateProvinces AS sp ON\r\n",
                "    city.StateProvinceID = sp.StateProvinceID\r\n",
                "JOIN Application.Countries AS ctry ON \r\n",
                "    sp.CountryID=ctry.CountryID\r\n",
                "ORDER BY Population, CityName;\r\n",
                "GO\r\n",
                ""
            ],
            "metadata": {
                "azdata_cell_guid": "25130f1b-8b75-41e5-894b-ffb863f9b9b4"
            },
            "outputs": [
                {
                    "output_type": "display_data",
                    "data": {
                        "text/html": "Commands completed successfully."
                    },
                    "metadata": {}
                },
                {
                    "output_type": "display_data",
                    "data": {
                        "text/html": "(10 rows affected)"
                    },
                    "metadata": {}
                },
                {
                    "output_type": "display_data",
                    "data": {
                        "text/html": "Total execution time: 00:00:00.487"
                    },
                    "metadata": {}
                },
                {
                    "output_type": "execute_result",
                    "execution_count": 10,
                    "data": {
                        "application/vnd.dataresource+json": {
                            "schema": {
                                "fields": [
                                    {
                                        "name": "City Name"
                                    },
                                    {
                                        "name": "State or Province"
                                    },
                                    {
                                        "name": "Population"
                                    },
                                    {
                                        "name": "CountryName"
                                    }
                                ]
                            },
                            "data": [
                                {
                                    "0": "Charlotte Amalie",
                                    "1": "Virgin Islands (US Territory)",
                                    "2": "104737",
                                    "3": "United States"
                                },
                                {
                                    "0": "Christiansted",
                                    "1": "Virgin Islands (US Territory)",
                                    "2": "104737",
                                    "3": "United States"
                                },
                                {
                                    "0": "Cruz Bay",
                                    "1": "Virgin Islands (US Territory)",
                                    "2": "104737",
                                    "3": "United States"
                                },
                                {
                                    "0": "Frederiksted",
                                    "1": "Virgin Islands (US Territory)",
                                    "2": "104737",
                                    "3": "United States"
                                },
                                {
                                    "0": "Acme",
                                    "1": "Wyoming",
                                    "2": "605964",
                                    "3": "United States"
                                },
                                {
                                    "0": "Afton",
                                    "1": "Wyoming",
                                    "2": "605964",
                                    "3": "United States"
                                },
                                {
                                    "0": "Aladdin",
                                    "1": "Wyoming",
                                    "2": "605964",
                                    "3": "United States"
                                },
                                {
                                    "0": "Albany",
                                    "1": "Wyoming",
                                    "2": "605964",
                                    "3": "United States"
                                },
                                {
                                    "0": "Albin",
                                    "1": "Wyoming",
                                    "2": "605964",
                                    "3": "United States"
                                },
                                {
                                    "0": "Alcova",
                                    "1": "Wyoming",
                                    "2": "605964",
                                    "3": "United States"
                                }
                            ]
                        },
                        "text/html": "<table><tr><th>City Name</th><th>State or Province</th><th>Population</th><th>CountryName</th></tr><tr><td>Charlotte Amalie</td><td>Virgin Islands (US Territory)</td><td>104737</td><td>United States</td></tr><tr><td>Christiansted</td><td>Virgin Islands (US Territory)</td><td>104737</td><td>United States</td></tr><tr><td>Cruz Bay</td><td>Virgin Islands (US Territory)</td><td>104737</td><td>United States</td></tr><tr><td>Frederiksted</td><td>Virgin Islands (US Territory)</td><td>104737</td><td>United States</td></tr><tr><td>Acme</td><td>Wyoming</td><td>605964</td><td>United States</td></tr><tr><td>Afton</td><td>Wyoming</td><td>605964</td><td>United States</td></tr><tr><td>Aladdin</td><td>Wyoming</td><td>605964</td><td>United States</td></tr><tr><td>Albany</td><td>Wyoming</td><td>605964</td><td>United States</td></tr><tr><td>Albin</td><td>Wyoming</td><td>605964</td><td>United States</td></tr><tr><td>Alcova</td><td>Wyoming</td><td>605964</td><td>United States</td></tr></table>"
                    },
                    "metadata": {}
                }
            ],
            "execution_count": 10
        },
        {
            "cell_type": "code",
            "source": [
                "/* Show Customer Sales in WWI OLTP */\r\n",
                "USE WideWorldImporters;\r\n",
                "GO\r\n",
                "\r\n",
                "SELECT TOP 10 s.CustomerID\r\n",
                ", s.CustomerName\r\n",
                ", sc.CustomerCategoryName\r\n",
                ",  pp.FullName AS PrimaryContact\r\n",
                ",  ap.FullName AS AlternateContact\r\n",
                ",  s.PhoneNumber\r\n",
                ",  s.FaxNumber\r\n",
                ",  bg.BuyingGroupName\r\n",
                ",  s.WebsiteURL\r\n",
                ",  dm.DeliveryMethodName AS DeliveryMethod\r\n",
                ",  c.CityName AS CityName\r\n",
                ",  s.DeliveryLocation AS DeliveryLocation\r\n",
                ",  s.DeliveryRun\r\n",
                ",  s.RunPosition\r\n",
                "FROM Sales.Customers AS s\r\n",
                "    LEFT OUTER JOIN Sales.CustomerCategories AS sc\r\n",
                "    ON s.CustomerCategoryID = sc.CustomerCategoryID\r\n",
                "    LEFT OUTER JOIN [Application].People AS pp\r\n",
                "    ON s.PrimaryContactPersonID = pp.PersonID\r\n",
                "    LEFT OUTER JOIN [Application].People AS ap\r\n",
                "    ON s.AlternateContactPersonID = ap.PersonID\r\n",
                "    LEFT OUTER JOIN Sales.BuyingGroups AS bg\r\n",
                "    ON s.BuyingGroupID = bg.BuyingGroupID\r\n",
                "    LEFT OUTER JOIN [Application].DeliveryMethods AS dm\r\n",
                "    ON s.DeliveryMethodID = dm.DeliveryMethodID\r\n",
                "    LEFT OUTER JOIN [Application].Cities AS c\r\n",
                "    ON s.DeliveryCityID = c.CityID\r\n",
                "ORDER BY c.CityName"
            ],
            "metadata": {
                "azdata_cell_guid": "14036e3c-e53f-4fef-b21c-5198ea53f463"
            },
            "outputs": [
                {
                    "output_type": "display_data",
                    "data": {
                        "text/html": "Commands completed successfully."
                    },
                    "metadata": {}
                },
                {
                    "output_type": "display_data",
                    "data": {
                        "text/html": "(10 rows affected)"
                    },
                    "metadata": {}
                },
                {
                    "output_type": "display_data",
                    "data": {
                        "text/html": "Total execution time: 00:00:02.103"
                    },
                    "metadata": {}
                },
                {
                    "output_type": "execute_result",
                    "execution_count": 11,
                    "data": {
                        "application/vnd.dataresource+json": {
                            "schema": {
                                "fields": [
                                    {
                                        "name": "CustomerID"
                                    },
                                    {
                                        "name": "CustomerName"
                                    },
                                    {
                                        "name": "CustomerCategoryName"
                                    },
                                    {
                                        "name": "PrimaryContact"
                                    },
                                    {
                                        "name": "AlternateContact"
                                    },
                                    {
                                        "name": "PhoneNumber"
                                    },
                                    {
                                        "name": "FaxNumber"
                                    },
                                    {
                                        "name": "BuyingGroupName"
                                    },
                                    {
                                        "name": "WebsiteURL"
                                    },
                                    {
                                        "name": "DeliveryMethod"
                                    },
                                    {
                                        "name": "CityName"
                                    },
                                    {
                                        "name": "DeliveryLocation"
                                    },
                                    {
                                        "name": "DeliveryRun"
                                    },
                                    {
                                        "name": "RunPosition"
                                    }
                                ]
                            },
                            "data": [
                                {
                                    "0": "841",
                                    "1": "Camille Authier",
                                    "2": "Gift Store",
                                    "3": "Camille Authier",
                                    "4": "NULL",
                                    "5": "(252) 555-0100",
                                    "6": "(252) 555-0101",
                                    "7": "NULL",
                                    "8": "http://www.microsoft.com/CamilleAuthier/",
                                    "9": "Delivery Van",
                                    "10": "Abbottsburg",
                                    "11": "0xE6100000010CE126A3CA30424140EF607AB166AE53C0",
                                    "12": "",
                                    "13": ""
                                },
                                {
                                    "0": "83",
                                    "1": "Tailspin Toys (Absecon, NJ)",
                                    "2": "Novelty Shop",
                                    "3": "Sang Tran",
                                    "4": "Bela Nemeth",
                                    "5": "(201) 555-0100",
                                    "6": "(201) 555-0101",
                                    "7": "Tailspin Toys",
                                    "8": "http://www.tailspintoys.com/Absecon",
                                    "9": "Delivery Van",
                                    "10": "Absecon",
                                    "11": "0xE6100000010C0F3B9D75D7B643403C985EACB99F52C0",
                                    "12": "",
                                    "13": ""
                                },
                                {
                                    "0": "595",
                                    "1": "Wingtip Toys (Accomac, VA)",
                                    "2": "Novelty Shop",
                                    "3": "Baanuraekha Voleti",
                                    "4": "Renata Alva",
                                    "5": "(276) 555-0100",
                                    "6": "(276) 555-0101",
                                    "7": "Wingtip Toys",
                                    "8": "http://www.wingtiptoys.com/Accomac",
                                    "9": "Delivery Van",
                                    "10": "Accomac",
                                    "11": "0xE6100000010CCE05E4011BDC4240ADDF4C4C97EA52C0",
                                    "12": "",
                                    "13": ""
                                },
                                {
                                    "0": "84",
                                    "1": "Tailspin Toys (Aceitunas, PR)",
                                    "2": "Novelty Shop",
                                    "3": "Eekalabya Bose",
                                    "4": "Margherita Bucco",
                                    "5": "(787) 555-0100",
                                    "6": "(787) 555-0101",
                                    "7": "Tailspin Toys",
                                    "8": "http://www.tailspintoys.com/Aceitunas",
                                    "9": "Delivery Van",
                                    "10": "Aceitunas",
                                    "11": "0xE6100000010CC786C9AF7A713240391B3C5D27C450C0",
                                    "12": "",
                                    "13": ""
                                },
                                {
                                    "0": "38",
                                    "1": "Tailspin Toys (Airport Drive, MO)",
                                    "2": "Novelty Shop",
                                    "3": "Nils Kalnins",
                                    "4": "Rajiv Kotadia",
                                    "5": "(314) 555-0100",
                                    "6": "(314) 555-0101",
                                    "7": "Tailspin Toys",
                                    "8": "http://www.tailspintoys.com/AirportDrive",
                                    "9": "Delivery Van",
                                    "10": "Airport Drive",
                                    "11": "0xE6100000010CE6E0E35D3F924240D5D7A9A8B0A057C0",
                                    "12": "",
                                    "13": ""
                                },
                                {
                                    "0": "537",
                                    "1": "Wingtip Toys (Akhiok, AK)",
                                    "2": "Novelty Shop",
                                    "3": "Deepesh Bose",
                                    "4": "Ambareesh Madhunapantula",
                                    "5": "(907) 555-0100",
                                    "6": "(907) 555-0101",
                                    "7": "Wingtip Toys",
                                    "8": "http://www.wingtiptoys.com/Akhiok",
                                    "9": "Delivery Van",
                                    "10": "Akhiok",
                                    "11": "0xE6100000010C5B4645F707794C4084C76DEA724563C0",
                                    "12": "",
                                    "13": ""
                                },
                                {
                                    "0": "853",
                                    "1": "Caterina Pinto",
                                    "2": "Gift Store",
                                    "3": "Caterina Pinto",
                                    "4": "NULL",
                                    "5": "(907) 555-0100",
                                    "6": "(907) 555-0101",
                                    "7": "NULL",
                                    "8": "http://www.microsoft.com/CaterinaPinto/",
                                    "9": "Delivery Van",
                                    "10": "Akhiok",
                                    "11": "0xE6100000010C5B4645F707794C4084C76DEA724563C0",
                                    "12": "",
                                    "13": ""
                                },
                                {
                                    "0": "589",
                                    "1": "Wingtip Toys (Alcester, SD)",
                                    "2": "Novelty Shop",
                                    "3": "Deviprasad PrabhupÄda",
                                    "4": "Tess Seegers",
                                    "5": "(605) 555-0100",
                                    "6": "(605) 555-0101",
                                    "7": "Wingtip Toys",
                                    "8": "http://www.wingtiptoys.com/Alcester",
                                    "9": "Delivery Van",
                                    "10": "Alcester",
                                    "11": "0xE6100000010C0BAC2D86BC8245401680EB2F602858C0",
                                    "12": "",
                                    "13": ""
                                },
                                {
                                    "0": "892",
                                    "1": "Bahaar Asef zade",
                                    "2": "Supermarket",
                                    "3": "Bahaar Asef zade",
                                    "4": "NULL",
                                    "5": "(225) 555-0100",
                                    "6": "(225) 555-0101",
                                    "7": "NULL",
                                    "8": "http://www.microsoft.com/BahaarAsefzade/",
                                    "9": "Delivery Van",
                                    "10": "Alden Bridge",
                                    "11": "0xE6100000010CD81D41E0376340401E537765176E57C0",
                                    "12": "",
                                    "13": ""
                                },
                                {
                                    "0": "91",
                                    "1": "Tailspin Toys (Alstead, NH)",
                                    "2": "Novelty Shop",
                                    "3": "GokCe Karaca",
                                    "4": "Maria Munteanu",
                                    "5": "(603) 555-0100",
                                    "6": "(603) 555-0101",
                                    "7": "Tailspin Toys",
                                    "8": "http://www.tailspintoys.com/Alstead",
                                    "9": "Delivery Van",
                                    "10": "Alstead",
                                    "11": "0xE6100000010C625AE55311934540CC01CCC6141752C0",
                                    "12": "",
                                    "13": ""
                                }
                            ]
                        },
                        "text/html": "<table><tr><th>CustomerID</th><th>CustomerName</th><th>CustomerCategoryName</th><th>PrimaryContact</th><th>AlternateContact</th><th>PhoneNumber</th><th>FaxNumber</th><th>BuyingGroupName</th><th>WebsiteURL</th><th>DeliveryMethod</th><th>CityName</th><th>DeliveryLocation</th><th>DeliveryRun</th><th>RunPosition</th></tr><tr><td>841</td><td>Camille Authier</td><td>Gift Store</td><td>Camille Authier</td><td>NULL</td><td>(252) 555-0100</td><td>(252) 555-0101</td><td>NULL</td><td>http://www.microsoft.com/CamilleAuthier/</td><td>Delivery Van</td><td>Abbottsburg</td><td>0xE6100000010CE126A3CA30424140EF607AB166AE53C0</td><td></td><td></td></tr><tr><td>83</td><td>Tailspin Toys (Absecon, NJ)</td><td>Novelty Shop</td><td>Sang Tran</td><td>Bela Nemeth</td><td>(201) 555-0100</td><td>(201) 555-0101</td><td>Tailspin Toys</td><td>http://www.tailspintoys.com/Absecon</td><td>Delivery Van</td><td>Absecon</td><td>0xE6100000010C0F3B9D75D7B643403C985EACB99F52C0</td><td></td><td></td></tr><tr><td>595</td><td>Wingtip Toys (Accomac, VA)</td><td>Novelty Shop</td><td>Baanuraekha Voleti</td><td>Renata Alva</td><td>(276) 555-0100</td><td>(276) 555-0101</td><td>Wingtip Toys</td><td>http://www.wingtiptoys.com/Accomac</td><td>Delivery Van</td><td>Accomac</td><td>0xE6100000010CCE05E4011BDC4240ADDF4C4C97EA52C0</td><td></td><td></td></tr><tr><td>84</td><td>Tailspin Toys (Aceitunas, PR)</td><td>Novelty Shop</td><td>Eekalabya Bose</td><td>Margherita Bucco</td><td>(787) 555-0100</td><td>(787) 555-0101</td><td>Tailspin Toys</td><td>http://www.tailspintoys.com/Aceitunas</td><td>Delivery Van</td><td>Aceitunas</td><td>0xE6100000010CC786C9AF7A713240391B3C5D27C450C0</td><td></td><td></td></tr><tr><td>38</td><td>Tailspin Toys (Airport Drive, MO)</td><td>Novelty Shop</td><td>Nils Kalnins</td><td>Rajiv Kotadia</td><td>(314) 555-0100</td><td>(314) 555-0101</td><td>Tailspin Toys</td><td>http://www.tailspintoys.com/AirportDrive</td><td>Delivery Van</td><td>Airport Drive</td><td>0xE6100000010CE6E0E35D3F924240D5D7A9A8B0A057C0</td><td></td><td></td></tr><tr><td>537</td><td>Wingtip Toys (Akhiok, AK)</td><td>Novelty Shop</td><td>Deepesh Bose</td><td>Ambareesh Madhunapantula</td><td>(907) 555-0100</td><td>(907) 555-0101</td><td>Wingtip Toys</td><td>http://www.wingtiptoys.com/Akhiok</td><td>Delivery Van</td><td>Akhiok</td><td>0xE6100000010C5B4645F707794C4084C76DEA724563C0</td><td></td><td></td></tr><tr><td>853</td><td>Caterina Pinto</td><td>Gift Store</td><td>Caterina Pinto</td><td>NULL</td><td>(907) 555-0100</td><td>(907) 555-0101</td><td>NULL</td><td>http://www.microsoft.com/CaterinaPinto/</td><td>Delivery Van</td><td>Akhiok</td><td>0xE6100000010C5B4645F707794C4084C76DEA724563C0</td><td></td><td></td></tr><tr><td>589</td><td>Wingtip Toys (Alcester, SD)</td><td>Novelty Shop</td><td>Deviprasad PrabhupÄda</td><td>Tess Seegers</td><td>(605) 555-0100</td><td>(605) 555-0101</td><td>Wingtip Toys</td><td>http://www.wingtiptoys.com/Alcester</td><td>Delivery Van</td><td>Alcester</td><td>0xE6100000010C0BAC2D86BC8245401680EB2F602858C0</td><td></td><td></td></tr><tr><td>892</td><td>Bahaar Asef zade</td><td>Supermarket</td><td>Bahaar Asef zade</td><td>NULL</td><td>(225) 555-0100</td><td>(225) 555-0101</td><td>NULL</td><td>http://www.microsoft.com/BahaarAsefzade/</td><td>Delivery Van</td><td>Alden Bridge</td><td>0xE6100000010CD81D41E0376340401E537765176E57C0</td><td></td><td></td></tr><tr><td>91</td><td>Tailspin Toys (Alstead, NH)</td><td>Novelty Shop</td><td>GokCe Karaca</td><td>Maria Munteanu</td><td>(603) 555-0100</td><td>(603) 555-0101</td><td>Tailspin Toys</td><td>http://www.tailspintoys.com/Alstead</td><td>Delivery Van</td><td>Alstead</td><td>0xE6100000010C625AE55311934540CC01CCC6141752C0</td><td></td><td></td></tr></table>"
                    },
                    "metadata": {}
                }
            ],
            "execution_count": 11
        },
        {
            "cell_type": "markdown",
            "source": [
                "## **Next Step: Data Virtualization**\r\n",
                "\r\n",
                "Now you're ready to open the next Python Notebook - `bdc_tutorial_04.ipynb` - to learn how to work with Data Virtualization."
            ],
            "metadata": {
                "azdata_cell_guid": "7c70d778-6f92-4d90-a41d-1966647410d5"
            }
        }
    ]
}