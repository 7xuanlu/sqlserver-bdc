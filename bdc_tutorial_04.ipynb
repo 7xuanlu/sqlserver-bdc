{
    "metadata": {
        "kernelspec": {
            "name": "SQL",
            "display_name": "SQL",
            "language": "sql"
        },
        "language_info": {
            "name": "sql",
            "version": ""
        }
    },
    "nbformat_minor": 2,
    "nbformat": 4,
    "cells": [
        {
            "cell_type": "markdown",
            "source": [
                "<img src=\"https://github.com/Microsoft/sqlworkshops/blob/master/graphics/solutions-microsoft-logo-small.png?raw=true\" alt=\"Microsoft\">\r\n",
                "<br>\r\n",
                "\r\n",
                "# **SQL Server 2019 big data cluster Tutorial**\r\n",
                "## **04 - Data Virtualization**\r\n",
                "\r\n",
                "In this tutorial you will learn how to create and query Virtualized Data in a SQL Server big data cluster.  \r\n",
                "- You'll start with creating a text file format, since that's the type of data you are reading in. \r\n",
                "- Next, you'll create a data source for the SQL Storage Pool, since that allows you to access the HDFS system in BDC. \r\n",
                "- Finally, you'll create an External Table, which uses the previous steps to access the data.\r\n",
                ""
            ],
            "metadata": {
                "azdata_cell_guid": "86b5ce61-2e4a-4abd-925d-f62090c097e8"
            }
        },
        {
            "cell_type": "code",
            "source": [
                "SELECT * FROM sys.external_tables"
            ],
            "metadata": {
                "azdata_cell_guid": "913ff4aa-1c55-449e-a488-25fb281ade7b"
            },
            "outputs": [
                {
                    "output_type": "display_data",
                    "data": {
                        "text/html": "(0 rows affected)"
                    },
                    "metadata": {}
                },
                {
                    "output_type": "display_data",
                    "data": {
                        "text/html": "Total execution time: 00:00:00.189"
                    },
                    "metadata": {}
                },
                {
                    "output_type": "execute_result",
                    "execution_count": 3,
                    "data": {
                        "application/vnd.dataresource+json": {
                            "schema": {
                                "fields": [
                                    {
                                        "name": "name"
                                    },
                                    {
                                        "name": "object_id"
                                    },
                                    {
                                        "name": "principal_id"
                                    },
                                    {
                                        "name": "schema_id"
                                    },
                                    {
                                        "name": "parent_object_id"
                                    },
                                    {
                                        "name": "type"
                                    },
                                    {
                                        "name": "type_desc"
                                    },
                                    {
                                        "name": "create_date"
                                    },
                                    {
                                        "name": "modify_date"
                                    },
                                    {
                                        "name": "is_ms_shipped"
                                    },
                                    {
                                        "name": "is_published"
                                    },
                                    {
                                        "name": "is_schema_published"
                                    },
                                    {
                                        "name": "max_column_id_used"
                                    },
                                    {
                                        "name": "uses_ansi_nulls"
                                    },
                                    {
                                        "name": "data_source_id"
                                    },
                                    {
                                        "name": "file_format_id"
                                    },
                                    {
                                        "name": "location"
                                    },
                                    {
                                        "name": "reject_type"
                                    },
                                    {
                                        "name": "reject_value"
                                    },
                                    {
                                        "name": "reject_sample_value"
                                    },
                                    {
                                        "name": "distribution_type"
                                    },
                                    {
                                        "name": "distribution_desc"
                                    },
                                    {
                                        "name": "sharding_col_id"
                                    },
                                    {
                                        "name": "remote_schema_name"
                                    },
                                    {
                                        "name": "remote_object_name"
                                    },
                                    {
                                        "name": "rejected_row_location"
                                    }
                                ]
                            },
                            "data": []
                        },
                        "text/html": "<table><tr><th>name</th><th>object_id</th><th>principal_id</th><th>schema_id</th><th>parent_object_id</th><th>type</th><th>type_desc</th><th>create_date</th><th>modify_date</th><th>is_ms_shipped</th><th>is_published</th><th>is_schema_published</th><th>max_column_id_used</th><th>uses_ansi_nulls</th><th>data_source_id</th><th>file_format_id</th><th>location</th><th>reject_type</th><th>reject_value</th><th>reject_sample_value</th><th>distribution_type</th><th>distribution_desc</th><th>sharding_col_id</th><th>remote_schema_name</th><th>remote_object_name</th><th>rejected_row_location</th></tr></table>"
                    },
                    "metadata": {}
                }
            ],
            "execution_count": 3
        },
        {
            "cell_type": "code",
            "source": [
                "/* Clean up only - run this cell only if you are repeating the tutorial! */\r\n",
                "USE WideWorldImporters;\r\n",
                "GO\r\n",
                "\r\n",
                "IF EXISTS(SELECT * FROM sys.external_data_sources WHERE name = 'SqlStoragePool')\r\n",
                "BEGIN\r\n",
                "    DROP EXTERNAL DATA SOURCE SqlStoragePool\r\n",
                "END\r\n",
                "\r\n",
                "IF EXISTS(SELECT * FROM sys.external_tables WHERE name = 'partner_customers_hdfs')\r\n",
                "BEGIN\r\n",
                "    DROP EXTERNAL TABLE partner_customers_hdfs\r\n",
                "END\r\n",
                "\r\n",
                "IF EXISTS(SELECT * FROM sys.external_file_formats WHERE name = 'csv_file')\r\n",
                "BEGIN\r\n",
                "    DROP EXTERNAL FILE FORMAT csv_file\r\n",
                "END\r\n",
                ""
            ],
            "metadata": {
                "azdata_cell_guid": "7f6483ec-7452-4b95-9f0d-d56e9dbbce42"
            },
            "outputs": [
                {
                    "output_type": "display_data",
                    "data": {
                        "text/html": "Commands completed successfully."
                    },
                    "metadata": {}
                },
                {
                    "output_type": "display_data",
                    "data": {
                        "text/html": "Commands completed successfully."
                    },
                    "metadata": {}
                },
                {
                    "output_type": "display_data",
                    "data": {
                        "text/html": "Total execution time: 00:00:00.227"
                    },
                    "metadata": {}
                }
            ],
            "execution_count": 4
        },
        {
            "cell_type": "code",
            "source": [
                "/* Create External File Format */\r\n",
                "\r\n",
                "USE WideWorldImporters;\r\n",
                "GO\r\n",
                "\r\n",
                "CREATE EXTERNAL FILE FORMAT csv_file\r\n",
                "WITH (\r\n",
                "    FORMAT_TYPE = DELIMITEDTEXT,\r\n",
                "    FORMAT_OPTIONS(\r\n",
                "        FIELD_TERMINATOR = ',',\r\n",
                "        STRING_DELIMITER = '0x22',\r\n",
                "        FIRST_ROW = 2,\r\n",
                "        USE_TYPE_DEFAULT = TRUE)\r\n",
                ");\r\n",
                "GO"
            ],
            "metadata": {
                "azdata_cell_guid": "0c69c481-a1e5-4e35-9525-524bf3c2a1dc"
            },
            "outputs": [
                {
                    "output_type": "display_data",
                    "data": {
                        "text/html": "Commands completed successfully."
                    },
                    "metadata": {}
                },
                {
                    "output_type": "display_data",
                    "data": {
                        "text/html": "Commands completed successfully."
                    },
                    "metadata": {}
                },
                {
                    "output_type": "display_data",
                    "data": {
                        "text/html": "Total execution time: 00:00:00.459"
                    },
                    "metadata": {}
                }
            ],
            "execution_count": 5
        },
        {
            "cell_type": "code",
            "source": [
                "/* Create External Data Source to the Storage Pool */\r\n",
                "CREATE EXTERNAL DATA SOURCE SqlStoragePool\r\n",
                "WITH (LOCATION = 'sqlhdfs://controller-svc/default');"
            ],
            "metadata": {
                "azdata_cell_guid": "d41ad7d8-2701-4637-88cd-30045d76beba"
            },
            "outputs": [
                {
                    "output_type": "display_data",
                    "data": {
                        "text/html": "Commands completed successfully."
                    },
                    "metadata": {}
                },
                {
                    "output_type": "display_data",
                    "data": {
                        "text/html": "Total execution time: 00:00:00.171"
                    },
                    "metadata": {}
                }
            ],
            "execution_count": 6
        },
        {
            "cell_type": "code",
            "source": [
                "/* Create an External Table that can read from the Storage Pool File Location */\r\n",
                "CREATE EXTERNAL TABLE [partner_customers_hdfs]\r\n",
                "    (\"CustomerSource\" VARCHAR(250) \r\n",
                "    , \"CustomerName\" VARCHAR(250) \r\n",
                "    , \"EmailAddress\" VARCHAR(250))\r\n",
                "    WITH\r\n",
                "    (\r\n",
                "        DATA_SOURCE = SqlStoragePool,\r\n",
                "        LOCATION = '/partner_customers',\r\n",
                "        FILE_FORMAT = csv_file\r\n",
                "    );\r\n",
                "GO"
            ],
            "metadata": {
                "azdata_cell_guid": "e05f68a6-187b-492b-a340-366ebdc4a2ca"
            },
            "outputs": [
                {
                    "output_type": "display_data",
                    "data": {
                        "text/html": "Commands completed successfully."
                    },
                    "metadata": {}
                },
                {
                    "output_type": "display_data",
                    "data": {
                        "text/html": "Total execution time: 00:00:00.384"
                    },
                    "metadata": {}
                }
            ],
            "execution_count": 7
        },
        {
            "cell_type": "code",
            "source": [
                "/* Read Data from HDFS using only T-SQL */\r\n",
                "\r\n",
                "SELECT TOP 10 CustomerSource\r\n",
                ", CustomerName\r\n",
                ", EMailAddress\r\n",
                "    FROM [partner_customers_hdfs] hdfs\r\n",
                "WHERE EmailAddress LIKE '%wingtip%'\r\n",
                "ORDER BY CustomerSource, CustomerName;\r\n",
                "GO\r\n",
                ""
            ],
            "metadata": {
                "azdata_cell_guid": "af47bbc9-1d88-448a-a4c8-87fecaf68a3a"
            },
            "outputs": [
                {
                    "output_type": "display_data",
                    "data": {
                        "text/html": "(10 rows affected)"
                    },
                    "metadata": {}
                },
                {
                    "output_type": "display_data",
                    "data": {
                        "text/html": "Total execution time: 00:00:02.762"
                    },
                    "metadata": {}
                },
                {
                    "output_type": "execute_result",
                    "execution_count": 8,
                    "data": {
                        "application/vnd.dataresource+json": {
                            "schema": {
                                "fields": [
                                    {
                                        "name": "CustomerSource"
                                    },
                                    {
                                        "name": "CustomerName"
                                    },
                                    {
                                        "name": "EMailAddress"
                                    }
                                ]
                            },
                            "data": [
                                {
                                    "0": "AdventureWorks",
                                    "1": "Ã…Å¡ani Nair",
                                    "2": "Ã¥Å¡ani@wingtiptoys.com\r"
                                },
                                {
                                    "0": "AdventureWorks",
                                    "1": "Ã…Å¡ani Sen",
                                    "2": "Ã¥Å¡ani@wingtiptoys.com\r"
                                },
                                {
                                    "0": "AdventureWorks",
                                    "1": "Aakriti Bhamidipati",
                                    "2": "aakriti@wingtiptoys.com\r"
                                },
                                {
                                    "0": "AdventureWorks",
                                    "1": "Aamdaal Kamasamudram",
                                    "2": "aamdaal@wingtiptoys.com\r"
                                },
                                {
                                    "0": "AdventureWorks",
                                    "1": "Abel Pirvu",
                                    "2": "abel@wingtiptoys.com\r"
                                },
                                {
                                    "0": "AdventureWorks",
                                    "1": "Abhaya Rambhatla",
                                    "2": "abhaya@wingtiptoys.com\r"
                                },
                                {
                                    "0": "AdventureWorks",
                                    "1": "Abhra Thakur",
                                    "2": "abhra@wingtiptoys.com\r"
                                },
                                {
                                    "0": "AdventureWorks",
                                    "1": "Adam Balaz",
                                    "2": "adam@wingtiptoys.com\r"
                                },
                                {
                                    "0": "AdventureWorks",
                                    "1": "Adirake Narkbunnum",
                                    "2": "adirake@wingtiptoys.com\r"
                                },
                                {
                                    "0": "AdventureWorks",
                                    "1": "Adirake Saenamuang",
                                    "2": "adirake@wingtiptoys.com\r"
                                }
                            ]
                        },
                        "text/html": "<table><tr><th>CustomerSource</th><th>CustomerName</th><th>EMailAddress</th></tr><tr><td>AdventureWorks</td><td>Ã…Å¡ani Nair</td><td>Ã¥Å¡ani@wingtiptoys.com\r</td></tr><tr><td>AdventureWorks</td><td>Ã…Å¡ani Sen</td><td>Ã¥Å¡ani@wingtiptoys.com\r</td></tr><tr><td>AdventureWorks</td><td>Aakriti Bhamidipati</td><td>aakriti@wingtiptoys.com\r</td></tr><tr><td>AdventureWorks</td><td>Aamdaal Kamasamudram</td><td>aamdaal@wingtiptoys.com\r</td></tr><tr><td>AdventureWorks</td><td>Abel Pirvu</td><td>abel@wingtiptoys.com\r</td></tr><tr><td>AdventureWorks</td><td>Abhaya Rambhatla</td><td>abhaya@wingtiptoys.com\r</td></tr><tr><td>AdventureWorks</td><td>Abhra Thakur</td><td>abhra@wingtiptoys.com\r</td></tr><tr><td>AdventureWorks</td><td>Adam Balaz</td><td>adam@wingtiptoys.com\r</td></tr><tr><td>AdventureWorks</td><td>Adirake Narkbunnum</td><td>adirake@wingtiptoys.com\r</td></tr><tr><td>AdventureWorks</td><td>Adirake Saenamuang</td><td>adirake@wingtiptoys.com\r</td></tr></table>"
                    },
                    "metadata": {}
                }
            ],
            "execution_count": 8
        },
        {
            "cell_type": "code",
            "source": [
                "/* Now Join Those to show customers we currently have in a SQL Server Database \r\n",
                "and the Category they qre in the External Table */\r\n",
                "USE WideWorldImporters;\r\n",
                "GO\r\n",
                "\r\n",
                "SELECT TOP 10 a.FullName\r\n",
                "  , b.CustomerSource\r\n",
                "  FROM Application.People a\r\n",
                "  INNER JOIN partner_customers_hdfs b  ON a.FullName = b.CustomerName\r\n",
                "  ORDER BY FullName ASC;\r\n",
                "  GO"
            ],
            "metadata": {
                "azdata_cell_guid": "f94a530b-061e-4c42-8f37-e590c87c614b"
            },
            "outputs": [
                {
                    "output_type": "display_data",
                    "data": {
                        "text/html": "Commands completed successfully."
                    },
                    "metadata": {}
                },
                {
                    "output_type": "display_data",
                    "data": {
                        "text/html": "(10 rows affected)"
                    },
                    "metadata": {}
                },
                {
                    "output_type": "display_data",
                    "data": {
                        "text/html": "Total execution time: 00:00:01.807"
                    },
                    "metadata": {}
                },
                {
                    "output_type": "execute_result",
                    "execution_count": 9,
                    "data": {
                        "application/vnd.dataresource+json": {
                            "schema": {
                                "fields": [
                                    {
                                        "name": "FullName"
                                    },
                                    {
                                        "name": "CustomerSource"
                                    }
                                ]
                            },
                            "data": [
                                {
                                    "0": "Aahlada Thota",
                                    "1": "AdventureWorks"
                                },
                                {
                                    "0": "Aakarsha Nookala",
                                    "1": "AdventureWorks"
                                },
                                {
                                    "0": "Aakriti Bhamidipati",
                                    "1": "AdventureWorks"
                                },
                                {
                                    "0": "Aamdaal Kamasamudram",
                                    "1": "AdventureWorks"
                                },
                                {
                                    "0": "Abel Pirvu",
                                    "1": "AdventureWorks"
                                },
                                {
                                    "0": "Abhaya Rambhatla",
                                    "1": "AdventureWorks"
                                },
                                {
                                    "0": "Abhra Thakur",
                                    "1": "AdventureWorks"
                                },
                                {
                                    "0": "Adam Balaz",
                                    "1": "AdventureWorks"
                                },
                                {
                                    "0": "Adam Dvorak",
                                    "1": "AdventureWorks"
                                },
                                {
                                    "0": "Adam Kubat",
                                    "1": "AdventureWorks"
                                }
                            ]
                        },
                        "text/html": "<table><tr><th>FullName</th><th>CustomerSource</th></tr><tr><td>Aahlada Thota</td><td>AdventureWorks</td></tr><tr><td>Aakarsha Nookala</td><td>AdventureWorks</td></tr><tr><td>Aakriti Bhamidipati</td><td>AdventureWorks</td></tr><tr><td>Aamdaal Kamasamudram</td><td>AdventureWorks</td></tr><tr><td>Abel Pirvu</td><td>AdventureWorks</td></tr><tr><td>Abhaya Rambhatla</td><td>AdventureWorks</td></tr><tr><td>Abhra Thakur</td><td>AdventureWorks</td></tr><tr><td>Adam Balaz</td><td>AdventureWorks</td></tr><tr><td>Adam Dvorak</td><td>AdventureWorks</td></tr><tr><td>Adam Kubat</td><td>AdventureWorks</td></tr></table>"
                    },
                    "metadata": {}
                }
            ],
            "execution_count": 9
        },
        {
            "cell_type": "markdown",
            "source": [
                "## **Next Steps: Continue on to Working with the SQL Server Data Pool**\r\n",
                "\r\n",
                "Now you're ready to open the next Python Notebook - `bdc_tutorial_05.ipynb` - to learn how to create and work with a Data Mart."
            ],
            "metadata": {
                "azdata_cell_guid": "72cff5fb-5191-4941-bb15-a3032ed44790"
            }
        }
    ]
}