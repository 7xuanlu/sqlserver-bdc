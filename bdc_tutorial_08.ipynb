{
    "metadata": {
        "kernelspec": {
            "name": "powershell",
            "display_name": "PowerShell"
        },
        "language_info": {
            "name": "powershell",
            "codemirror_mode": "shell",
            "mimetype": "text/x-sh",
            "file_extension": ".ps1"
        }
    },
    "nbformat_minor": 2,
    "nbformat": 4,
    "cells": [
        {
            "cell_type": "markdown",
            "source": [
                "<img src=\"https://github.com/Microsoft/sqlworkshops/blob/master/graphics/solutions-microsoft-logo-small.png?raw=true\" alt=\"Microsoft\">\n",
                "<br>\n",
                "\n",
                "# **SQL Server 2019 big data cluster Tutorial**\n",
                "## **08 - Export Spark ML model and deploy it to Big Data Cluster App pool**\n",
                "In this tutorial you will learn how to export and deploy MLeap bundle in a SQL Server big data cluster."
            ],
            "metadata": {
                "azdata_cell_guid": "e915f064-1e21-4f16-aeba-a4d682ce1e23"
            }
        },
        {
            "cell_type": "markdown",
            "source": [
                "Log in to the SQL Server big data cluster using the command below using the IP address of the controller-svc-external in your cluster. If you are not familiar with mssqltctl you can refer to the documentation and then return to this sample."
            ],
            "metadata": {
                "azdata_cell_guid": "3e0779ac-1472-4fce-82eb-22693001c505"
            }
        },
        {
            "cell_type": "code",
            "source": [
                "azdata login --endpoint https://20.43.145.147:30080 --username ethuang"
            ],
            "metadata": {
                "azdata_cell_guid": "cd1d3b12-7089-4d49-9b5b-a784d42e8364"
            },
            "outputs": [],
            "execution_count": null
        },
        {
            "cell_type": "code",
            "source": [
                "cd temp\r\n",
                "kubectl cp mssql-cluster/storage-0-1:battery_life_pipeline.zip battery_life_pipeline.zip"
            ],
            "metadata": {
                "azdata_cell_guid": "0bf5c4c6-6ddd-442e-b388-acf85d6c31f0"
            },
            "outputs": [],
            "execution_count": null
        },
        {
            "cell_type": "markdown",
            "source": [
                "The init command provides a scaffold with the relevant artifacts that is required for deploying an app. The example below creates hello you can do this by running the following command."
            ],
            "metadata": {
                "azdata_cell_guid": "3d6dc4fd-a42e-4d70-abe8-82bf3db0bfd4"
            }
        },
        {
            "cell_type": "code",
            "source": [
                "azdata app init -v v1 -n battery_life -t mleap"
            ],
            "metadata": {
                "azdata_cell_guid": "7d28d7d4-30f8-4199-95cb-8775d396fc52"
            },
            "outputs": [],
            "execution_count": null
        },
        {
            "cell_type": "markdown",
            "source": [
                "The application you will be deploying as part of this sample is a Gradient Boosted Tree Model that was built in Spark and has been serialized as an MLeap bundle.\r\n",
                "\r\n",
                "Deploy the app using the create command and pass the location of the spec file. In the example below, the spec file is expected to be in the mleap folder:"
            ],
            "metadata": {
                "azdata_cell_guid": "d8c3ab1a-0331-452a-b596-80a62324170d"
            }
        },
        {
            "cell_type": "code",
            "source": [
                "azdata app create --spec ."
            ],
            "metadata": {
                "azdata_cell_guid": "9ad305d1-734e-4bf8-901e-3c77fb141b46"
            },
            "outputs": [],
            "execution_count": null
        },
        {
            "cell_type": "markdown",
            "source": [
                "Check the deployment by running the following command:"
            ],
            "metadata": {
                "azdata_cell_guid": "62242a79-5f7c-4f6f-af8c-32e1966ad2a6"
            }
        },
        {
            "cell_type": "code",
            "source": [
                "azdata app list"
            ],
            "metadata": {
                "azdata_cell_guid": "68b18f42-1e7b-47db-90be-4c6158faf8b6"
            },
            "outputs": [],
            "execution_count": null
        },
        {
            "cell_type": "markdown",
            "source": [
                "The deployed app is a RESTful webservice that is Swagger compliant. You can get the endpoint for the web service by running:"
            ],
            "metadata": {
                "azdata_cell_guid": "b0a2a22b-890b-4f0d-9fac-baf7759696ff"
            }
        },
        {
            "cell_type": "code",
            "source": [
                "azdata app describe --name battery-life --version v1"
            ],
            "metadata": {
                "azdata_cell_guid": "473176e4-db15-48a4-831b-d3afe12eb071"
            },
            "outputs": [],
            "execution_count": null
        },
        {
            "cell_type": "markdown",
            "source": [
                "Go to https://\\<ip-address>:\\<port>/api/v1/app/battery-life/v1/swagger.json, and you'll get json and paste it to [swagger.io](https://editor.swagger.io/)."
            ],
            "metadata": {
                "azdata_cell_guid": "45f03953-864b-4487-8dc6-b9e85c749f9b"
            }
        },
        {
            "cell_type": "markdown",
            "source": [
                "To test the app, run the command below. The input parameter is a MLeapFrame, a json file that describes the parameters and the values provided to the model for predicting income. Note that the input parameter has a special character '@' to indicate that a json file is being passed. This command needs to be run within the battery-life folder."
            ],
            "metadata": {
                "azdata_cell_guid": "89a44578-7532-4f4d-a5bc-5adb02d509c3"
            }
        },
        {
            "cell_type": "code",
            "source": [
                "cd battery-life\r\n",
                "azdata app run --name battery-life --version v1 --input schema=@sample-data.json"
            ],
            "metadata": {
                "azdata_cell_guid": "c1ae836f-f264-4a5e-b575-11d6b3b023e2"
            },
            "outputs": [],
            "execution_count": null
        },
        {
            "cell_type": "markdown",
            "source": [
                "You can clean up the sample by running the following commands:"
            ],
            "metadata": {
                "azdata_cell_guid": "b5c57c29-940b-4afd-a982-b7459f7a76e5"
            }
        },
        {
            "cell_type": "code",
            "source": [
                "# Delete app\r\n",
                "azdata app delete --name battery-life --version v1"
            ],
            "metadata": {
                "azdata_cell_guid": "493e7c47-88bd-4b4c-94ba-93d30904c88e"
            },
            "outputs": [],
            "execution_count": null
        }
    ]
}